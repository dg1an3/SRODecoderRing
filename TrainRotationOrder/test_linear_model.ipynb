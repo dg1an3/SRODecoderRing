{
 "cells": [
  {
   "cell_type": "code",
   "execution_count": 12,
   "metadata": {},
   "outputs": [],
   "source": [
    "import numpy as np\n",
    "import keras\n",
    "import json\n",
    "import csv\n",
    "from keras.models import Sequential\n",
    "from keras.layers import Dense, Activation\n",
    "from keras.optimizers import SGD\n",
    "from keras import backend as K"
   ]
  },
  {
   "cell_type": "code",
   "execution_count": 13,
   "metadata": {},
   "outputs": [],
   "source": [
    "def rows_of(array):\n",
    "    if len(array.shape) > 1: \n",
    "        return [(n, array[n]) for n in range(array.shape[0])]\n",
    "    else: return [(0, array)]"
   ]
  },
  {
   "cell_type": "code",
   "execution_count": 14,
   "metadata": {},
   "outputs": [],
   "source": [
    "def write_matrix_csv(fname, matrix_gen):\n",
    "    with open(fname, 'w', newline='') as csvfile:\n",
    "        csvwriter = csv.writer(csvfile, delimiter=',', quoting=csv.QUOTE_MINIMAL)\n",
    "        for (precolumns, matrix_array) in matrix_gen:\n",
    "            for (n, row_array) in rows_of(matrix_array):\n",
    "                if len(matrix_array.shape) > 1: rows, columns = matrix_array.shape\n",
    "                else: rows, columns = 1, matrix_array.shape[0]\n",
    "                csvwriter.writerow(precolumns + [rows, columns, n] + list(row_array))"
   ]
  },
  {
   "cell_type": "code",
   "execution_count": 15,
   "metadata": {},
   "outputs": [],
   "source": [
    "def layer_weights(model):\n",
    "    for layer in model.layers:\n",
    "        for weight_variable in layer.weights:\n",
    "            weight_values = K.batch_get_value(weight_variable)\n",
    "            yield ([layer.name, weight_variable.name], weight_values)            "
   ]
  },
  {
   "cell_type": "code",
   "execution_count": 16,
   "metadata": {},
   "outputs": [
    {
     "name": "stdout",
     "output_type": "stream",
     "text": [
      "_________________________________________________________________\n",
      "Layer (type)                 Output Shape              Param #   \n",
      "=================================================================\n",
      "dense_3 (Dense)              (None, 5)                 20        \n",
      "_________________________________________________________________\n",
      "dense_4 (Dense)              (None, 3)                 18        \n",
      "=================================================================\n",
      "Total params: 38\n",
      "Trainable params: 38\n",
      "Non-trainable params: 0\n",
      "_________________________________________________________________\n"
     ]
    }
   ],
   "source": [
    "model = Sequential()\n",
    "model.add(Dense(5, activation='linear', input_dim = 3, kernel_initializer='ones'))\n",
    "model.add(Dense(3, activation='linear', kernel_initializer='ones'))\n",
    "model.summary()"
   ]
  },
  {
   "cell_type": "code",
   "execution_count": 17,
   "metadata": {},
   "outputs": [],
   "source": [
    "with open('test_linear_model/config.json', 'w') as modelfile:\n",
    "    json.dump(model.get_config(), modelfile)\n",
    "write_matrix_csv('test_linear_model/weights_pretrain.csv', layer_weights(model))"
   ]
  },
  {
   "cell_type": "code",
   "execution_count": 18,
   "metadata": {},
   "outputs": [],
   "source": [
    "input = np.array([[0.,0.,0.],[0.,0.,1.],[0.,1.,0.],[1.,0.,0.]])\n",
    "output = model.predict(input)\n",
    "write_matrix_csv('test_linear_model/predict_pretrain.csv', [(['in'], input), (['out'], output)])"
   ]
  },
  {
   "cell_type": "code",
   "execution_count": 19,
   "metadata": {},
   "outputs": [],
   "source": [
    "sgd = SGD(lr=0.001, decay=1e-8)\n",
    "model.compile(loss='mean_squared_error', optimizer=sgd)"
   ]
  },
  {
   "cell_type": "code",
   "execution_count": 20,
   "metadata": {},
   "outputs": [],
   "source": [
    "x_train = np.random.random(size=(100,3))\n",
    "y_train = x_train"
   ]
  },
  {
   "cell_type": "code",
   "execution_count": 21,
   "metadata": {
    "collapsed": true
   },
   "outputs": [
    {
     "name": "stdout",
     "output_type": "stream",
     "text": [
      "WARNING:tensorflow:From c:\\users\\dglan\\appdata\\local\\programs\\python\\python36\\lib\\site-packages\\tensorflow\\python\\ops\\math_ops.py:3066: to_int32 (from tensorflow.python.ops.math_ops) is deprecated and will be removed in a future version.\n",
      "Instructions for updating:\n",
      "Use tf.cast instead.\n",
      "Epoch 1/100\n",
      "100/100 [==============================] - 0s 730us/step - loss: 52.8891\n",
      "Epoch 2/100\n",
      "100/100 [==============================] - 0s 50us/step - loss: 43.2425\n",
      "Epoch 3/100\n",
      "100/100 [==============================] - 0s 60us/step - loss: 35.4064\n",
      "Epoch 4/100\n",
      "100/100 [==============================] - 0s 50us/step - loss: 29.3411\n",
      "Epoch 5/100\n",
      "100/100 [==============================] - 0s 40us/step - loss: 25.0324\n",
      "Epoch 6/100\n",
      "100/100 [==============================] - 0s 50us/step - loss: 21.5414\n",
      "Epoch 7/100\n",
      "100/100 [==============================] - 0s 50us/step - loss: 18.9457\n",
      "Epoch 8/100\n",
      "100/100 [==============================] - 0s 40us/step - loss: 16.7353\n",
      "Epoch 9/100\n",
      "100/100 [==============================] - 0s 40us/step - loss: 14.9120\n",
      "Epoch 10/100\n",
      "100/100 [==============================] - 0s 50us/step - loss: 13.2481\n",
      "Epoch 11/100\n",
      "100/100 [==============================] - 0s 50us/step - loss: 11.5694\n",
      "Epoch 12/100\n",
      "100/100 [==============================] - 0s 50us/step - loss: 10.1960\n",
      "Epoch 13/100\n",
      "100/100 [==============================] - 0s 50us/step - loss: 9.1315\n",
      "Epoch 14/100\n",
      "100/100 [==============================] - 0s 50us/step - loss: 8.3535\n",
      "Epoch 15/100\n",
      "100/100 [==============================] - 0s 60us/step - loss: 7.5545\n",
      "Epoch 16/100\n",
      "100/100 [==============================] - 0s 50us/step - loss: 6.8376\n",
      "Epoch 17/100\n",
      "100/100 [==============================] - 0s 50us/step - loss: 6.2788\n",
      "Epoch 18/100\n",
      "100/100 [==============================] - 0s 50us/step - loss: 5.7476\n",
      "Epoch 19/100\n",
      "100/100 [==============================] - 0s 50us/step - loss: 5.2851\n",
      "Epoch 20/100\n",
      "100/100 [==============================] - 0s 50us/step - loss: 4.8794\n",
      "Epoch 21/100\n",
      "100/100 [==============================] - 0s 40us/step - loss: 4.4309\n",
      "Epoch 22/100\n",
      "100/100 [==============================] - 0s 60us/step - loss: 4.1053\n",
      "Epoch 23/100\n",
      "100/100 [==============================] - 0s 40us/step - loss: 3.8195\n",
      "Epoch 24/100\n",
      "100/100 [==============================] - 0s 50us/step - loss: 3.5336\n",
      "Epoch 25/100\n",
      "100/100 [==============================] - 0s 50us/step - loss: 3.2848\n",
      "Epoch 26/100\n",
      "100/100 [==============================] - 0s 60us/step - loss: 3.0228\n",
      "Epoch 27/100\n",
      "100/100 [==============================] - 0s 50us/step - loss: 2.8401\n",
      "Epoch 28/100\n",
      "100/100 [==============================] - 0s 50us/step - loss: 2.6401\n",
      "Epoch 29/100\n",
      "100/100 [==============================] - 0s 40us/step - loss: 2.4704\n",
      "Epoch 30/100\n",
      "100/100 [==============================] - 0s 40us/step - loss: 2.3393\n",
      "Epoch 31/100\n",
      "100/100 [==============================] - 0s 50us/step - loss: 2.2035\n",
      "Epoch 32/100\n",
      "100/100 [==============================] - 0s 40us/step - loss: 2.0984\n",
      "Epoch 33/100\n",
      "100/100 [==============================] - 0s 50us/step - loss: 1.9804\n",
      "Epoch 34/100\n",
      "100/100 [==============================] - 0s 50us/step - loss: 1.8665\n",
      "Epoch 35/100\n",
      "100/100 [==============================] - 0s 50us/step - loss: 1.7976\n",
      "Epoch 36/100\n",
      "100/100 [==============================] - 0s 50us/step - loss: 1.7182\n",
      "Epoch 37/100\n",
      "100/100 [==============================] - 0s 40us/step - loss: 1.6401\n",
      "Epoch 38/100\n",
      "100/100 [==============================] - 0s 40us/step - loss: 1.5767\n",
      "Epoch 39/100\n",
      "100/100 [==============================] - 0s 50us/step - loss: 1.5134\n",
      "Epoch 40/100\n",
      "100/100 [==============================] - 0s 40us/step - loss: 1.4617\n",
      "Epoch 41/100\n",
      "100/100 [==============================] - 0s 50us/step - loss: 1.4253\n",
      "Epoch 42/100\n",
      "100/100 [==============================] - 0s 40us/step - loss: 1.3838\n",
      "Epoch 43/100\n",
      "100/100 [==============================] - 0s 50us/step - loss: 1.3388\n",
      "Epoch 44/100\n",
      "100/100 [==============================] - 0s 50us/step - loss: 1.2968\n",
      "Epoch 45/100\n",
      "100/100 [==============================] - 0s 40us/step - loss: 1.2639\n",
      "Epoch 46/100\n",
      "100/100 [==============================] - 0s 30us/step - loss: 1.2264\n",
      "Epoch 47/100\n",
      "100/100 [==============================] - 0s 30us/step - loss: 1.1926\n",
      "Epoch 48/100\n",
      "100/100 [==============================] - 0s 30us/step - loss: 1.1664\n",
      "Epoch 49/100\n",
      "100/100 [==============================] - 0s 40us/step - loss: 1.1372\n",
      "Epoch 50/100\n",
      "100/100 [==============================] - 0s 40us/step - loss: 1.1164\n",
      "Epoch 51/100\n",
      "100/100 [==============================] - 0s 40us/step - loss: 1.0956\n",
      "Epoch 52/100\n",
      "100/100 [==============================] - 0s 40us/step - loss: 1.0776\n",
      "Epoch 53/100\n",
      "100/100 [==============================] - 0s 30us/step - loss: 1.0522\n",
      "Epoch 54/100\n",
      "100/100 [==============================] - 0s 40us/step - loss: 1.0374\n",
      "Epoch 55/100\n",
      "100/100 [==============================] - 0s 40us/step - loss: 1.0250\n",
      "Epoch 56/100\n",
      "100/100 [==============================] - 0s 30us/step - loss: 1.0071\n",
      "Epoch 57/100\n",
      "100/100 [==============================] - 0s 30us/step - loss: 0.9909\n",
      "Epoch 58/100\n",
      "100/100 [==============================] - 0s 40us/step - loss: 0.9756\n",
      "Epoch 59/100\n",
      "100/100 [==============================] - 0s 40us/step - loss: 0.9644\n",
      "Epoch 60/100\n",
      "100/100 [==============================] - 0s 40us/step - loss: 0.9540\n",
      "Epoch 61/100\n",
      "100/100 [==============================] - 0s 40us/step - loss: 0.9454\n",
      "Epoch 62/100\n",
      "100/100 [==============================] - 0s 40us/step - loss: 0.9356\n",
      "Epoch 63/100\n",
      "100/100 [==============================] - 0s 30us/step - loss: 0.9283\n",
      "Epoch 64/100\n",
      "100/100 [==============================] - 0s 40us/step - loss: 0.9173\n",
      "Epoch 65/100\n",
      "100/100 [==============================] - 0s 40us/step - loss: 0.9089\n",
      "Epoch 66/100\n",
      "100/100 [==============================] - 0s 30us/step - loss: 0.9002\n",
      "Epoch 67/100\n",
      "100/100 [==============================] - 0s 40us/step - loss: 0.8916\n",
      "Epoch 68/100\n",
      "100/100 [==============================] - 0s 40us/step - loss: 0.8851\n",
      "Epoch 69/100\n",
      "100/100 [==============================] - 0s 50us/step - loss: 0.8752\n",
      "Epoch 70/100\n",
      "100/100 [==============================] - 0s 50us/step - loss: 0.8700\n",
      "Epoch 71/100\n",
      "100/100 [==============================] - 0s 50us/step - loss: 0.8652\n",
      "Epoch 72/100\n",
      "100/100 [==============================] - 0s 40us/step - loss: 0.8590\n",
      "Epoch 73/100\n",
      "100/100 [==============================] - 0s 40us/step - loss: 0.8521\n",
      "Epoch 74/100\n",
      "100/100 [==============================] - 0s 40us/step - loss: 0.8448\n",
      "Epoch 75/100\n",
      "100/100 [==============================] - 0s 30us/step - loss: 0.8383\n",
      "Epoch 76/100\n",
      "100/100 [==============================] - 0s 50us/step - loss: 0.8348\n",
      "Epoch 77/100\n",
      "100/100 [==============================] - 0s 50us/step - loss: 0.8300\n",
      "Epoch 78/100\n",
      "100/100 [==============================] - 0s 30us/step - loss: 0.8258\n",
      "Epoch 79/100\n",
      "100/100 [==============================] - 0s 40us/step - loss: 0.8205\n",
      "Epoch 80/100\n",
      "100/100 [==============================] - 0s 40us/step - loss: 0.8165\n",
      "Epoch 81/100\n",
      "100/100 [==============================] - 0s 40us/step - loss: 0.8120\n",
      "Epoch 82/100\n",
      "100/100 [==============================] - 0s 40us/step - loss: 0.8071\n",
      "Epoch 83/100\n",
      "100/100 [==============================] - 0s 50us/step - loss: 0.8034\n",
      "Epoch 84/100\n",
      "100/100 [==============================] - 0s 40us/step - loss: 0.7987\n",
      "Epoch 85/100\n",
      "100/100 [==============================] - 0s 40us/step - loss: 0.7956\n",
      "Epoch 86/100\n",
      "100/100 [==============================] - 0s 40us/step - loss: 0.7913\n",
      "Epoch 87/100\n",
      "100/100 [==============================] - 0s 50us/step - loss: 0.7874\n",
      "Epoch 88/100\n",
      "100/100 [==============================] - 0s 40us/step - loss: 0.7842\n",
      "Epoch 89/100\n",
      "100/100 [==============================] - 0s 40us/step - loss: 0.7813\n",
      "Epoch 90/100\n",
      "100/100 [==============================] - 0s 50us/step - loss: 0.7777\n",
      "Epoch 91/100\n",
      "100/100 [==============================] - 0s 50us/step - loss: 0.7739\n",
      "Epoch 92/100\n",
      "100/100 [==============================] - 0s 40us/step - loss: 0.7709\n",
      "Epoch 93/100\n",
      "100/100 [==============================] - 0s 40us/step - loss: 0.7675\n",
      "Epoch 94/100\n",
      "100/100 [==============================] - 0s 40us/step - loss: 0.7649\n",
      "Epoch 95/100\n"
     ]
    },
    {
     "name": "stdout",
     "output_type": "stream",
     "text": [
      "100/100 [==============================] - 0s 50us/step - loss: 0.7611\n",
      "Epoch 96/100\n",
      "100/100 [==============================] - 0s 40us/step - loss: 0.7587\n",
      "Epoch 97/100\n",
      "100/100 [==============================] - 0s 40us/step - loss: 0.7560\n",
      "Epoch 98/100\n",
      "100/100 [==============================] - 0s 50us/step - loss: 0.7530\n",
      "Epoch 99/100\n",
      "100/100 [==============================] - 0s 60us/step - loss: 0.7500\n",
      "Epoch 100/100\n",
      "100/100 [==============================] - 0s 40us/step - loss: 0.7474\n"
     ]
    },
    {
     "data": {
      "text/plain": [
       "<keras.callbacks.History at 0x157198eb978>"
      ]
     },
     "execution_count": 21,
     "metadata": {},
     "output_type": "execute_result"
    }
   ],
   "source": [
    "model.fit(x_train, y_train, epochs=100)"
   ]
  },
  {
   "cell_type": "code",
   "execution_count": 22,
   "metadata": {},
   "outputs": [],
   "source": [
    "write_matrix_csv('test_linear_model/weights_posttrain.csv', layer_weights(model))"
   ]
  },
  {
   "cell_type": "code",
   "execution_count": 23,
   "metadata": {},
   "outputs": [],
   "source": [
    "input = np.array([[0.,0.,0.],[0.,0.,1.],[0.,1.,0.],[1.,0.,0.]])\n",
    "output = model.predict(input)\n",
    "write_matrix_csv('test_linear_model/predict_posttrain.csv', [(['in'], input), (['out'], output)])"
   ]
  },
  {
   "cell_type": "code",
   "execution_count": null,
   "metadata": {},
   "outputs": [],
   "source": []
  }
 ],
 "metadata": {
  "kernelspec": {
   "display_name": "Python 3",
   "language": "python",
   "name": "python3"
  },
  "language_info": {
   "codemirror_mode": {
    "name": "ipython",
    "version": 3
   },
   "file_extension": ".py",
   "mimetype": "text/x-python",
   "name": "python",
   "nbconvert_exporter": "python",
   "pygments_lexer": "ipython3",
   "version": "3.6.8"
  }
 },
 "nbformat": 4,
 "nbformat_minor": 2
}
