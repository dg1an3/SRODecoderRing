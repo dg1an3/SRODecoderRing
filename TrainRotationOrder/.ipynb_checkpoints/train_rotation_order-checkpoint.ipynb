{
 "cells": [
  {
   "cell_type": "markdown",
   "metadata": {},
   "source": [
    "## Dependencies\n",
    "* standard libraries: random, math, itertools\n",
    "* numpy scipy\n",
    "* keras / tensorflow"
   ]
  },
  {
   "cell_type": "code",
   "execution_count": 1,
   "metadata": {},
   "outputs": [],
   "source": [
    "import random\n",
    "import math\n",
    "from itertools import permutations\n",
    "import numpy as np\n",
    "from scipy.spatial.transform import Rotation as R"
   ]
  },
  {
   "cell_type": "code",
   "execution_count": 2,
   "metadata": {},
   "outputs": [
    {
     "name": "stderr",
     "output_type": "stream",
     "text": [
      "Using TensorFlow backend.\n"
     ]
    },
    {
     "name": "stdout",
     "output_type": "stream",
     "text": [
      "tensorflow\n"
     ]
    }
   ],
   "source": [
    "import keras\n",
    "from keras.models import Sequential\n",
    "from keras.layers import Dense, Dropout, Activation, BatchNormalization\n",
    "from keras.optimizers import SGD, Adam\n",
    "from keras.preprocessing.image import ImageDataGenerator\n",
    "from keras import backend as K\n",
    "print(K.backend())"
   ]
  },
  {
   "cell_type": "markdown",
   "metadata": {},
   "source": [
    "## Model"
   ]
  },
  {
   "cell_type": "code",
   "execution_count": 3,
   "metadata": {},
   "outputs": [
    {
     "name": "stdout",
     "output_type": "stream",
     "text": [
      "['zxy', 'zyx', 'xzy', 'xyz', 'yzx', 'yxz']\n"
     ]
    }
   ],
   "source": [
    "all_rotation_orders = [''.join(axes) for axes in permutations({'x','y','z'})]\n",
    "print(all_rotation_orders)"
   ]
  },
  {
   "cell_type": "code",
   "execution_count": 4,
   "metadata": {},
   "outputs": [
    {
     "name": "stdout",
     "output_type": "stream",
     "text": [
      "[-3.52682681  2.99979571 -2.21245977 -4.39032991  0.48958442  1.32222518\n",
      "  0.89669484  0.10684048 -3.4137044  -0.94991467]\n"
     ]
    }
   ],
   "source": [
    "def random_vector(n, mag):\n",
    "    return 2.0 * mag * (0.5-np.random.random(size=n))\n",
    "print(random_vector(10,5.0))"
   ]
  },
  {
   "cell_type": "markdown",
   "metadata": {},
   "source": [
    "define a function to generate a single sample from the model.\n",
    "\n",
    "sample is a tuple of:\n",
    "* np.array with 9 matrix elements + 3 rotation angles\n",
    "* string corresponding to chosen rotation order (element of all_rotation_orders)"
   ]
  },
  {
   "cell_type": "code",
   "execution_count": 5,
   "metadata": {},
   "outputs": [
    {
     "name": "stdout",
     "output_type": "stream",
     "text": [
      "(array([ 0.9949499 ,  0.01383269,  0.09941508, -0.01180571,  0.99971085,\n",
      "       -0.02094845, -0.09967611,  0.01966899,  0.99482551,  1.11436584,\n",
      "       -0.66449552,  5.66723365]), 'xzy')\n"
     ]
    }
   ],
   "source": [
    "def generate_sample_from_model():\n",
    "    rotation_order = random.choice(all_rotation_orders)  # choose a rotation order\n",
    "    angles = random_vector(3, 10.0)   # generate three random angles (in degrees)\n",
    "    if (min(abs(angles)) < 0.1):     # reject any angles that are too small\n",
    "        return generate_sample_from_model()\n",
    "    matrix = R.from_euler(rotation_order, angles, degrees = True)  # generate matrix\n",
    "    noise_angles = angles + random_vector(3, 0.1)    \n",
    "    x = np.concatenate((matrix.as_dcm().flatten(), \n",
    "                        np.array(noise_angles)))\n",
    "                        # np.array(np.cos(noise_angles)), \n",
    "                        # np.array(np.sin(noise_angles))))                         \n",
    "    return (x, rotation_order)\n",
    "print(generate_sample_from_model())"
   ]
  },
  {
   "cell_type": "markdown",
   "metadata": {},
   "source": [
    "define a function to generate multiple samples, suitable for training or testing.\n",
    "\n",
    "for number N, sample is a tuple:\n",
    " * np.array Nx12 of x vectors (standardized zero mean)\n",
    " * np.array Nx6 one-hot vectors"
   ]
  },
  {
   "cell_type": "code",
   "execution_count": 6,
   "metadata": {},
   "outputs": [
    {
     "name": "stdout",
     "output_type": "stream",
     "text": [
      "(array([[ 1.41201285, -0.48215938,  0.95514094,  0.48009473,  1.41165213,\n",
      "        -1.41207319, -0.43441339,  1.40661018,  1.41238708,  1.40537578,\n",
      "         0.44046599,  0.47766569],\n",
      "       [-0.63770716, -0.91028547,  0.42563457,  0.91196469, -0.77950574,\n",
      "         0.77339368, -0.94832484, -0.83013508, -0.76841932, -0.83939627,\n",
      "         0.94359358,  0.91393626],\n",
      "       [-0.77430569,  1.39244486, -1.38077551, -1.39205943, -0.63214639,\n",
      "         0.63867951,  1.38273823, -0.5764751 , -0.64396776, -0.56597952,\n",
      "        -1.38405956, -1.39160195]]), array([ 0.98890503, -0.03402726, -0.01164819,  0.03489067,  0.98671509,\n",
      "        0.04952262,  0.01181119, -0.04768658,  0.99742392, -2.7702123 ,\n",
      "       -0.69715659,  1.95113608]), array([4.07032944e-03, 1.43622726e-01, 1.13685029e-02, 1.42366185e-01,\n",
      "       5.48288957e-03, 4.92471551e-02, 2.06221115e-02, 4.79990630e-02,\n",
      "       1.68182558e-03, 2.71193617e+00, 1.11118699e+00, 8.22314091e+00]), array([[0., 0., 0., 1.],\n",
      "       [0., 0., 0., 1.],\n",
      "       [0., 0., 0., 1.]], dtype=float32))\n"
     ]
    }
   ],
   "source": [
    "def generate_samples(n, mean=None, std=None):\n",
    "    [xs, rotation_orders] = list(zip(*[generate_sample_from_model() for _ in range(n)]))\n",
    "    xs = np.array(xs)\n",
    "    if mean is None:\n",
    "        mean = xs.mean(0)\n",
    "    if std is None:\n",
    "        std = xs.std(0)\n",
    "    xs -= mean    # standardize along sample dimension\n",
    "    xs /= std\n",
    "    ys = [all_rotation_orders.index(rotation_order) for rotation_order in rotation_orders]\n",
    "    return xs, mean, std, keras.utils.to_categorical(ys)\n",
    "print(generate_samples(3))"
   ]
  },
  {
   "cell_type": "markdown",
   "metadata": {},
   "source": [
    "generate training and testing data from the model"
   ]
  },
  {
   "cell_type": "code",
   "execution_count": 7,
   "metadata": {},
   "outputs": [
    {
     "name": "stdout",
     "output_type": "stream",
     "text": [
      "(10000, 12) (10000, 6)\n"
     ]
    }
   ],
   "source": [
    "x_train, mean, std, y_train = generate_samples(10000)\n",
    "x_test, _, _, y_test = generate_samples(1000, mean, std)\n",
    "print(x_train.shape, y_train.shape)"
   ]
  },
  {
   "cell_type": "markdown",
   "metadata": {},
   "source": [
    "now create an MLP as the model"
   ]
  },
  {
   "cell_type": "code",
   "execution_count": 8,
   "metadata": {},
   "outputs": [
    {
     "name": "stdout",
     "output_type": "stream",
     "text": [
      "WARNING:tensorflow:From c:\\users\\dglan\\appdata\\local\\programs\\python\\python36\\lib\\site-packages\\tensorflow\\python\\framework\\op_def_library.py:263: colocate_with (from tensorflow.python.framework.ops) is deprecated and will be removed in a future version.\n",
      "Instructions for updating:\n",
      "Colocations handled automatically by placer.\n",
      "_________________________________________________________________\n",
      "Layer (type)                 Output Shape              Param #   \n",
      "=================================================================\n",
      "dense_1 (Dense)              (None, 64)                832       \n",
      "_________________________________________________________________\n",
      "dense_2 (Dense)              (None, 32)                2080      \n",
      "_________________________________________________________________\n",
      "dense_3 (Dense)              (None, 32)                1056      \n",
      "_________________________________________________________________\n",
      "dense_4 (Dense)              (None, 6)                 198       \n",
      "=================================================================\n",
      "Total params: 4,166\n",
      "Trainable params: 4,166\n",
      "Non-trainable params: 0\n",
      "_________________________________________________________________\n"
     ]
    }
   ],
   "source": [
    "model = Sequential()\n",
    "model.add(Dense(64, activation='relu', input_dim = x_train.shape[1]))\n",
    "model.add(Dense(32, activation='relu'))\n",
    "model.add(Dense(32, activation='relu'))\n",
    "model.add(Dense(6, activation='softmax'))\n",
    "model.summary()"
   ]
  },
  {
   "cell_type": "markdown",
   "metadata": {},
   "source": [
    "set up the optimizer and compile the model"
   ]
  },
  {
   "cell_type": "code",
   "execution_count": 9,
   "metadata": {},
   "outputs": [],
   "source": [
    "adam = Adam(lr=0.001, decay=1e-8)\n",
    "model.compile(loss='categorical_crossentropy', optimizer=adam, metrics=['accuracy'])"
   ]
  },
  {
   "cell_type": "markdown",
   "metadata": {},
   "source": [
    "now fit the data using the training samples"
   ]
  },
  {
   "cell_type": "code",
   "execution_count": 10,
   "metadata": {},
   "outputs": [
    {
     "name": "stdout",
     "output_type": "stream",
     "text": [
      "WARNING:tensorflow:From c:\\users\\dglan\\appdata\\local\\programs\\python\\python36\\lib\\site-packages\\tensorflow\\python\\ops\\math_ops.py:3066: to_int32 (from tensorflow.python.ops.math_ops) is deprecated and will be removed in a future version.\n",
      "Instructions for updating:\n",
      "Use tf.cast instead.\n",
      "Epoch 1/200\n",
      "10000/10000 [==============================] - 0s 25us/step - loss: 1.7078 - acc: 0.3137\n",
      "Epoch 2/200\n",
      "10000/10000 [==============================] - 0s 6us/step - loss: 1.4293 - acc: 0.4946\n",
      "Epoch 3/200\n",
      "10000/10000 [==============================] - 0s 5us/step - loss: 1.0562 - acc: 0.6469\n",
      "Epoch 4/200\n",
      "10000/10000 [==============================] - 0s 5us/step - loss: 0.7393 - acc: 0.7654\n",
      "Epoch 5/200\n",
      "10000/10000 [==============================] - 0s 5us/step - loss: 0.5378 - acc: 0.8313\n",
      "Epoch 6/200\n",
      "10000/10000 [==============================] - 0s 5us/step - loss: 0.4257 - acc: 0.8760\n",
      "Epoch 7/200\n",
      "10000/10000 [==============================] - 0s 5us/step - loss: 0.3563 - acc: 0.8971\n",
      "Epoch 8/200\n",
      "10000/10000 [==============================] - 0s 5us/step - loss: 0.3116 - acc: 0.9108\n",
      "Epoch 9/200\n",
      "10000/10000 [==============================] - 0s 6us/step - loss: 0.2745 - acc: 0.9252\n",
      "Epoch 10/200\n",
      "10000/10000 [==============================] - 0s 5us/step - loss: 0.2488 - acc: 0.9337\n",
      "Epoch 11/200\n",
      "10000/10000 [==============================] - 0s 5us/step - loss: 0.2308 - acc: 0.9364\n",
      "Epoch 12/200\n",
      "10000/10000 [==============================] - 0s 5us/step - loss: 0.2123 - acc: 0.9396\n",
      "Epoch 13/200\n",
      "10000/10000 [==============================] - 0s 5us/step - loss: 0.2036 - acc: 0.9406\n",
      "Epoch 14/200\n",
      "10000/10000 [==============================] - 0s 5us/step - loss: 0.1859 - acc: 0.9536\n",
      "Epoch 15/200\n",
      "10000/10000 [==============================] - 0s 5us/step - loss: 0.1792 - acc: 0.9459\n",
      "Epoch 16/200\n",
      "10000/10000 [==============================] - 0s 5us/step - loss: 0.1678 - acc: 0.9511\n",
      "Epoch 17/200\n",
      "10000/10000 [==============================] - 0s 5us/step - loss: 0.1568 - acc: 0.9576\n",
      "Epoch 18/200\n",
      "10000/10000 [==============================] - 0s 5us/step - loss: 0.1537 - acc: 0.9586\n",
      "Epoch 19/200\n",
      "10000/10000 [==============================] - 0s 5us/step - loss: 0.1617 - acc: 0.9459\n",
      "Epoch 20/200\n",
      "10000/10000 [==============================] - 0s 6us/step - loss: 0.1391 - acc: 0.9621\n",
      "Epoch 21/200\n",
      "10000/10000 [==============================] - 0s 5us/step - loss: 0.1358 - acc: 0.9600\n",
      "Epoch 22/200\n",
      "10000/10000 [==============================] - 0s 5us/step - loss: 0.1301 - acc: 0.9652\n",
      "Epoch 23/200\n",
      "10000/10000 [==============================] - 0s 5us/step - loss: 0.1218 - acc: 0.9710\n",
      "Epoch 24/200\n",
      "10000/10000 [==============================] - 0s 5us/step - loss: 0.1231 - acc: 0.9673\n",
      "Epoch 25/200\n",
      "10000/10000 [==============================] - 0s 5us/step - loss: 0.1161 - acc: 0.9702\n",
      "Epoch 26/200\n",
      "10000/10000 [==============================] - 0s 5us/step - loss: 0.1144 - acc: 0.9684\n",
      "Epoch 27/200\n",
      "10000/10000 [==============================] - 0s 5us/step - loss: 0.1122 - acc: 0.9701\n",
      "Epoch 28/200\n",
      "10000/10000 [==============================] - 0s 5us/step - loss: 0.1045 - acc: 0.9760\n",
      "Epoch 29/200\n",
      "10000/10000 [==============================] - 0s 5us/step - loss: 0.1050 - acc: 0.9733\n",
      "Epoch 30/200\n",
      "10000/10000 [==============================] - 0s 5us/step - loss: 0.0995 - acc: 0.9750\n",
      "Epoch 31/200\n",
      "10000/10000 [==============================] - 0s 5us/step - loss: 0.0966 - acc: 0.9770\n",
      "Epoch 32/200\n",
      "10000/10000 [==============================] - 0s 5us/step - loss: 0.0998 - acc: 0.9718\n",
      "Epoch 33/200\n",
      "10000/10000 [==============================] - 0s 5us/step - loss: 0.0925 - acc: 0.9770\n",
      "Epoch 34/200\n",
      "10000/10000 [==============================] - 0s 5us/step - loss: 0.0900 - acc: 0.9779\n",
      "Epoch 35/200\n",
      "10000/10000 [==============================] - 0s 5us/step - loss: 0.0912 - acc: 0.9749\n",
      "Epoch 36/200\n",
      "10000/10000 [==============================] - 0s 5us/step - loss: 0.0864 - acc: 0.9775\n",
      "Epoch 37/200\n",
      "10000/10000 [==============================] - 0s 5us/step - loss: 0.0874 - acc: 0.9762\n",
      "Epoch 38/200\n",
      "10000/10000 [==============================] - 0s 5us/step - loss: 0.0881 - acc: 0.9727\n",
      "Epoch 39/200\n",
      "10000/10000 [==============================] - 0s 5us/step - loss: 0.0832 - acc: 0.9776\n",
      "Epoch 40/200\n",
      "10000/10000 [==============================] - 0s 5us/step - loss: 0.0797 - acc: 0.9797\n",
      "Epoch 41/200\n",
      "10000/10000 [==============================] - 0s 5us/step - loss: 0.0891 - acc: 0.9730\n",
      "Epoch 42/200\n",
      "10000/10000 [==============================] - 0s 5us/step - loss: 0.0823 - acc: 0.9760\n",
      "Epoch 43/200\n",
      "10000/10000 [==============================] - 0s 5us/step - loss: 0.0773 - acc: 0.9788\n",
      "Epoch 44/200\n",
      "10000/10000 [==============================] - 0s 5us/step - loss: 0.0803 - acc: 0.9756\n",
      "Epoch 45/200\n",
      "10000/10000 [==============================] - 0s 5us/step - loss: 0.0720 - acc: 0.9814\n",
      "Epoch 46/200\n",
      "10000/10000 [==============================] - 0s 5us/step - loss: 0.0727 - acc: 0.9827\n",
      "Epoch 47/200\n",
      "10000/10000 [==============================] - 0s 5us/step - loss: 0.0793 - acc: 0.9744\n",
      "Epoch 48/200\n",
      "10000/10000 [==============================] - 0s 5us/step - loss: 0.0735 - acc: 0.9770\n",
      "Epoch 49/200\n",
      "10000/10000 [==============================] - 0s 5us/step - loss: 0.0716 - acc: 0.9804\n",
      "Epoch 50/200\n",
      "10000/10000 [==============================] - 0s 5us/step - loss: 0.0684 - acc: 0.9824\n",
      "Epoch 51/200\n",
      "10000/10000 [==============================] - 0s 5us/step - loss: 0.0712 - acc: 0.9786\n",
      "Epoch 52/200\n",
      "10000/10000 [==============================] - 0s 5us/step - loss: 0.0620 - acc: 0.9861\n",
      "Epoch 53/200\n",
      "10000/10000 [==============================] - 0s 5us/step - loss: 0.0775 - acc: 0.9770\n",
      "Epoch 54/200\n",
      "10000/10000 [==============================] - 0s 5us/step - loss: 0.0618 - acc: 0.9852\n",
      "Epoch 55/200\n",
      "10000/10000 [==============================] - 0s 5us/step - loss: 0.0580 - acc: 0.9877\n",
      "Epoch 56/200\n",
      "10000/10000 [==============================] - 0s 5us/step - loss: 0.0698 - acc: 0.9780\n",
      "Epoch 57/200\n",
      "10000/10000 [==============================] - 0s 5us/step - loss: 0.0629 - acc: 0.9830\n",
      "Epoch 58/200\n",
      "10000/10000 [==============================] - 0s 5us/step - loss: 0.0638 - acc: 0.9824\n",
      "Epoch 59/200\n",
      "10000/10000 [==============================] - 0s 5us/step - loss: 0.0724 - acc: 0.9770\n",
      "Epoch 60/200\n",
      "10000/10000 [==============================] - 0s 5us/step - loss: 0.0559 - acc: 0.9864\n",
      "Epoch 61/200\n",
      "10000/10000 [==============================] - 0s 5us/step - loss: 0.0599 - acc: 0.9827\n",
      "Epoch 62/200\n",
      "10000/10000 [==============================] - 0s 5us/step - loss: 0.0549 - acc: 0.9866\n",
      "Epoch 63/200\n",
      "10000/10000 [==============================] - 0s 5us/step - loss: 0.0538 - acc: 0.9868\n",
      "Epoch 64/200\n",
      "10000/10000 [==============================] - 0s 5us/step - loss: 0.0532 - acc: 0.9863\n",
      "Epoch 65/200\n",
      "10000/10000 [==============================] - 0s 5us/step - loss: 0.0530 - acc: 0.9864\n",
      "Epoch 66/200\n",
      "10000/10000 [==============================] - 0s 5us/step - loss: 0.0566 - acc: 0.9846\n",
      "Epoch 67/200\n",
      "10000/10000 [==============================] - 0s 5us/step - loss: 0.0537 - acc: 0.9857\n",
      "Epoch 68/200\n",
      "10000/10000 [==============================] - 0s 5us/step - loss: 0.0511 - acc: 0.9863\n",
      "Epoch 69/200\n",
      "10000/10000 [==============================] - 0s 5us/step - loss: 0.0519 - acc: 0.9855\n",
      "Epoch 70/200\n",
      "10000/10000 [==============================] - 0s 5us/step - loss: 0.0496 - acc: 0.9879\n",
      "Epoch 71/200\n",
      "10000/10000 [==============================] - 0s 5us/step - loss: 0.0486 - acc: 0.9878\n",
      "Epoch 72/200\n",
      "10000/10000 [==============================] - 0s 5us/step - loss: 0.0498 - acc: 0.9871\n",
      "Epoch 73/200\n",
      "10000/10000 [==============================] - 0s 6us/step - loss: 0.0494 - acc: 0.9874\n",
      "Epoch 74/200\n",
      "10000/10000 [==============================] - 0s 6us/step - loss: 0.0474 - acc: 0.9883\n",
      "Epoch 75/200\n",
      "10000/10000 [==============================] - 0s 5us/step - loss: 0.0654 - acc: 0.9774\n",
      "Epoch 76/200\n",
      "10000/10000 [==============================] - 0s 5us/step - loss: 0.0539 - acc: 0.9840\n",
      "Epoch 77/200\n",
      "10000/10000 [==============================] - 0s 5us/step - loss: 0.0507 - acc: 0.9856\n",
      "Epoch 78/200\n",
      "10000/10000 [==============================] - 0s 5us/step - loss: 0.0473 - acc: 0.9872\n",
      "Epoch 79/200\n"
     ]
    },
    {
     "name": "stdout",
     "output_type": "stream",
     "text": [
      "10000/10000 [==============================] - 0s 5us/step - loss: 0.0452 - acc: 0.9874\n",
      "Epoch 80/200\n",
      "10000/10000 [==============================] - 0s 5us/step - loss: 0.0438 - acc: 0.9888\n",
      "Epoch 81/200\n",
      "10000/10000 [==============================] - 0s 5us/step - loss: 0.0423 - acc: 0.9900\n",
      "Epoch 82/200\n",
      "10000/10000 [==============================] - 0s 5us/step - loss: 0.0423 - acc: 0.9897\n",
      "Epoch 83/200\n",
      "10000/10000 [==============================] - 0s 5us/step - loss: 0.0516 - acc: 0.9831\n",
      "Epoch 84/200\n",
      "10000/10000 [==============================] - 0s 5us/step - loss: 0.0458 - acc: 0.9867\n",
      "Epoch 85/200\n",
      "10000/10000 [==============================] - 0s 5us/step - loss: 0.0411 - acc: 0.9902\n",
      "Epoch 86/200\n",
      "10000/10000 [==============================] - 0s 5us/step - loss: 0.0421 - acc: 0.9893\n",
      "Epoch 87/200\n",
      "10000/10000 [==============================] - 0s 5us/step - loss: 0.0424 - acc: 0.9893\n",
      "Epoch 88/200\n",
      "10000/10000 [==============================] - 0s 5us/step - loss: 0.0408 - acc: 0.9893\n",
      "Epoch 89/200\n",
      "10000/10000 [==============================] - 0s 5us/step - loss: 0.0396 - acc: 0.9901\n",
      "Epoch 90/200\n",
      "10000/10000 [==============================] - 0s 5us/step - loss: 0.0380 - acc: 0.9901\n",
      "Epoch 91/200\n",
      "10000/10000 [==============================] - 0s 5us/step - loss: 0.0398 - acc: 0.9893\n",
      "Epoch 92/200\n",
      "10000/10000 [==============================] - 0s 5us/step - loss: 0.0390 - acc: 0.9900\n",
      "Epoch 93/200\n",
      "10000/10000 [==============================] - 0s 5us/step - loss: 0.0370 - acc: 0.9921\n",
      "Epoch 94/200\n",
      "10000/10000 [==============================] - 0s 5us/step - loss: 0.0373 - acc: 0.9913\n",
      "Epoch 95/200\n",
      "10000/10000 [==============================] - 0s 5us/step - loss: 0.0405 - acc: 0.9876\n",
      "Epoch 96/200\n",
      "10000/10000 [==============================] - 0s 5us/step - loss: 0.0391 - acc: 0.9899\n",
      "Epoch 97/200\n",
      "10000/10000 [==============================] - 0s 5us/step - loss: 0.0405 - acc: 0.9877\n",
      "Epoch 98/200\n",
      "10000/10000 [==============================] - 0s 5us/step - loss: 0.0426 - acc: 0.9882\n",
      "Epoch 99/200\n",
      "10000/10000 [==============================] - 0s 5us/step - loss: 0.0399 - acc: 0.9895\n",
      "Epoch 100/200\n",
      "10000/10000 [==============================] - 0s 5us/step - loss: 0.0391 - acc: 0.9891\n",
      "Epoch 101/200\n",
      "10000/10000 [==============================] - 0s 5us/step - loss: 0.0372 - acc: 0.9888\n",
      "Epoch 102/200\n",
      "10000/10000 [==============================] - 0s 5us/step - loss: 0.0388 - acc: 0.9896\n",
      "Epoch 103/200\n",
      "10000/10000 [==============================] - 0s 5us/step - loss: 0.0369 - acc: 0.9892\n",
      "Epoch 104/200\n",
      "10000/10000 [==============================] - 0s 5us/step - loss: 0.0370 - acc: 0.9891\n",
      "Epoch 105/200\n",
      "10000/10000 [==============================] - 0s 5us/step - loss: 0.0329 - acc: 0.9926\n",
      "Epoch 106/200\n",
      "10000/10000 [==============================] - 0s 5us/step - loss: 0.0344 - acc: 0.9912\n",
      "Epoch 107/200\n",
      "10000/10000 [==============================] - 0s 5us/step - loss: 0.0347 - acc: 0.9900\n",
      "Epoch 108/200\n",
      "10000/10000 [==============================] - 0s 5us/step - loss: 0.0383 - acc: 0.9888\n",
      "Epoch 109/200\n",
      "10000/10000 [==============================] - 0s 5us/step - loss: 0.0314 - acc: 0.9924\n",
      "Epoch 110/200\n",
      "10000/10000 [==============================] - 0s 5us/step - loss: 0.0352 - acc: 0.9904\n",
      "Epoch 111/200\n",
      "10000/10000 [==============================] - 0s 5us/step - loss: 0.0363 - acc: 0.9893\n",
      "Epoch 112/200\n",
      "10000/10000 [==============================] - 0s 5us/step - loss: 0.0357 - acc: 0.9896\n",
      "Epoch 113/200\n",
      "10000/10000 [==============================] - 0s 5us/step - loss: 0.0320 - acc: 0.9923\n",
      "Epoch 114/200\n",
      "10000/10000 [==============================] - 0s 5us/step - loss: 0.0354 - acc: 0.9907\n",
      "Epoch 115/200\n",
      "10000/10000 [==============================] - 0s 5us/step - loss: 0.0419 - acc: 0.9862\n",
      "Epoch 116/200\n",
      "10000/10000 [==============================] - 0s 5us/step - loss: 0.0359 - acc: 0.9895\n",
      "Epoch 117/200\n",
      "10000/10000 [==============================] - 0s 5us/step - loss: 0.0365 - acc: 0.9891\n",
      "Epoch 118/200\n",
      "10000/10000 [==============================] - 0s 5us/step - loss: 0.0344 - acc: 0.9902\n",
      "Epoch 119/200\n",
      "10000/10000 [==============================] - 0s 5us/step - loss: 0.0341 - acc: 0.9903\n",
      "Epoch 120/200\n",
      "10000/10000 [==============================] - 0s 5us/step - loss: 0.0298 - acc: 0.9924\n",
      "Epoch 121/200\n",
      "10000/10000 [==============================] - 0s 5us/step - loss: 0.0339 - acc: 0.9900\n",
      "Epoch 122/200\n",
      "10000/10000 [==============================] - 0s 5us/step - loss: 0.0322 - acc: 0.9911\n",
      "Epoch 123/200\n",
      "10000/10000 [==============================] - 0s 6us/step - loss: 0.0328 - acc: 0.9903\n",
      "Epoch 124/200\n",
      "10000/10000 [==============================] - 0s 5us/step - loss: 0.0278 - acc: 0.9939\n",
      "Epoch 125/200\n",
      "10000/10000 [==============================] - 0s 5us/step - loss: 0.0278 - acc: 0.9933\n",
      "Epoch 126/200\n",
      "10000/10000 [==============================] - 0s 5us/step - loss: 0.0333 - acc: 0.9899\n",
      "Epoch 127/200\n",
      "10000/10000 [==============================] - 0s 5us/step - loss: 0.0273 - acc: 0.9940\n",
      "Epoch 128/200\n",
      "10000/10000 [==============================] - 0s 5us/step - loss: 0.0284 - acc: 0.9929\n",
      "Epoch 129/200\n",
      "10000/10000 [==============================] - 0s 5us/step - loss: 0.0317 - acc: 0.9903\n",
      "Epoch 130/200\n",
      "10000/10000 [==============================] - 0s 5us/step - loss: 0.0299 - acc: 0.9922\n",
      "Epoch 131/200\n",
      "10000/10000 [==============================] - 0s 5us/step - loss: 0.0318 - acc: 0.9903\n",
      "Epoch 132/200\n",
      "10000/10000 [==============================] - 0s 5us/step - loss: 0.0321 - acc: 0.9901\n",
      "Epoch 133/200\n",
      "10000/10000 [==============================] - 0s 5us/step - loss: 0.0295 - acc: 0.9917\n",
      "Epoch 134/200\n",
      "10000/10000 [==============================] - 0s 5us/step - loss: 0.0313 - acc: 0.9902\n",
      "Epoch 135/200\n",
      "10000/10000 [==============================] - 0s 5us/step - loss: 0.0307 - acc: 0.9910\n",
      "Epoch 136/200\n",
      "10000/10000 [==============================] - 0s 5us/step - loss: 0.0277 - acc: 0.9927\n",
      "Epoch 137/200\n",
      "10000/10000 [==============================] - 0s 5us/step - loss: 0.0273 - acc: 0.9929\n",
      "Epoch 138/200\n",
      "10000/10000 [==============================] - 0s 5us/step - loss: 0.0314 - acc: 0.9904\n",
      "Epoch 139/200\n",
      "10000/10000 [==============================] - 0s 5us/step - loss: 0.0351 - acc: 0.9891\n",
      "Epoch 140/200\n",
      "10000/10000 [==============================] - 0s 5us/step - loss: 0.0269 - acc: 0.9924\n",
      "Epoch 141/200\n",
      "10000/10000 [==============================] - 0s 5us/step - loss: 0.0274 - acc: 0.9918\n",
      "Epoch 142/200\n",
      "10000/10000 [==============================] - 0s 5us/step - loss: 0.0308 - acc: 0.9903\n",
      "Epoch 143/200\n",
      "10000/10000 [==============================] - 0s 5us/step - loss: 0.0268 - acc: 0.9931\n",
      "Epoch 144/200\n",
      "10000/10000 [==============================] - 0s 5us/step - loss: 0.0272 - acc: 0.9918\n",
      "Epoch 145/200\n",
      "10000/10000 [==============================] - 0s 5us/step - loss: 0.0256 - acc: 0.9932\n",
      "Epoch 146/200\n",
      "10000/10000 [==============================] - 0s 5us/step - loss: 0.0334 - acc: 0.9890\n",
      "Epoch 147/200\n",
      "10000/10000 [==============================] - 0s 5us/step - loss: 0.0347 - acc: 0.9881\n",
      "Epoch 148/200\n",
      "10000/10000 [==============================] - 0s 5us/step - loss: 0.0252 - acc: 0.9928\n",
      "Epoch 149/200\n",
      "10000/10000 [==============================] - 0s 5us/step - loss: 0.0290 - acc: 0.9903\n",
      "Epoch 150/200\n",
      "10000/10000 [==============================] - 0s 5us/step - loss: 0.0253 - acc: 0.9930\n",
      "Epoch 151/200\n",
      "10000/10000 [==============================] - 0s 5us/step - loss: 0.0242 - acc: 0.9939\n",
      "Epoch 152/200\n",
      "10000/10000 [==============================] - 0s 5us/step - loss: 0.0269 - acc: 0.9918\n",
      "Epoch 153/200\n",
      "10000/10000 [==============================] - 0s 5us/step - loss: 0.0263 - acc: 0.9920\n",
      "Epoch 154/200\n",
      "10000/10000 [==============================] - 0s 5us/step - loss: 0.0227 - acc: 0.9939\n",
      "Epoch 155/200\n",
      "10000/10000 [==============================] - 0s 5us/step - loss: 0.0241 - acc: 0.9937\n",
      "Epoch 156/200\n",
      "10000/10000 [==============================] - 0s 5us/step - loss: 0.0227 - acc: 0.9948\n",
      "Epoch 157/200\n",
      "10000/10000 [==============================] - 0s 5us/step - loss: 0.0264 - acc: 0.9921\n",
      "Epoch 158/200\n",
      "10000/10000 [==============================] - 0s 6us/step - loss: 0.0223 - acc: 0.9941\n",
      "Epoch 159/200\n"
     ]
    },
    {
     "name": "stdout",
     "output_type": "stream",
     "text": [
      "10000/10000 [==============================] - 0s 5us/step - loss: 0.0226 - acc: 0.9941\n",
      "Epoch 160/200\n",
      "10000/10000 [==============================] - 0s 5us/step - loss: 0.0465 - acc: 0.9838\n",
      "Epoch 161/200\n",
      "10000/10000 [==============================] - 0s 5us/step - loss: 0.0345 - acc: 0.9874\n",
      "Epoch 162/200\n",
      "10000/10000 [==============================] - 0s 5us/step - loss: 0.0266 - acc: 0.9924\n",
      "Epoch 163/200\n",
      "10000/10000 [==============================] - 0s 5us/step - loss: 0.0227 - acc: 0.9930\n",
      "Epoch 164/200\n",
      "10000/10000 [==============================] - 0s 5us/step - loss: 0.0213 - acc: 0.9941\n",
      "Epoch 165/200\n",
      "10000/10000 [==============================] - 0s 5us/step - loss: 0.0228 - acc: 0.9937\n",
      "Epoch 166/200\n",
      "10000/10000 [==============================] - 0s 5us/step - loss: 0.0222 - acc: 0.9933\n",
      "Epoch 167/200\n",
      "10000/10000 [==============================] - 0s 5us/step - loss: 0.0268 - acc: 0.9906\n",
      "Epoch 168/200\n",
      "10000/10000 [==============================] - 0s 5us/step - loss: 0.0273 - acc: 0.9914\n",
      "Epoch 169/200\n",
      "10000/10000 [==============================] - 0s 5us/step - loss: 0.0242 - acc: 0.9932\n",
      "Epoch 170/200\n",
      "10000/10000 [==============================] - 0s 5us/step - loss: 0.0215 - acc: 0.9941\n",
      "Epoch 171/200\n",
      "10000/10000 [==============================] - 0s 5us/step - loss: 0.0344 - acc: 0.9887\n",
      "Epoch 172/200\n",
      "10000/10000 [==============================] - 0s 5us/step - loss: 0.0270 - acc: 0.9911\n",
      "Epoch 173/200\n",
      "10000/10000 [==============================] - 0s 5us/step - loss: 0.0267 - acc: 0.9915\n",
      "Epoch 174/200\n",
      "10000/10000 [==============================] - 0s 5us/step - loss: 0.0234 - acc: 0.9930\n",
      "Epoch 175/200\n",
      "10000/10000 [==============================] - 0s 5us/step - loss: 0.0232 - acc: 0.9935\n",
      "Epoch 176/200\n",
      "10000/10000 [==============================] - 0s 5us/step - loss: 0.0245 - acc: 0.9919\n",
      "Epoch 177/200\n",
      "10000/10000 [==============================] - 0s 5us/step - loss: 0.0194 - acc: 0.9950\n",
      "Epoch 178/200\n",
      "10000/10000 [==============================] - 0s 5us/step - loss: 0.0197 - acc: 0.9949\n",
      "Epoch 179/200\n",
      "10000/10000 [==============================] - 0s 5us/step - loss: 0.0208 - acc: 0.9947\n",
      "Epoch 180/200\n",
      "10000/10000 [==============================] - 0s 5us/step - loss: 0.0286 - acc: 0.9903\n",
      "Epoch 181/200\n",
      "10000/10000 [==============================] - 0s 5us/step - loss: 0.0226 - acc: 0.9939\n",
      "Epoch 182/200\n",
      "10000/10000 [==============================] - 0s 5us/step - loss: 0.0241 - acc: 0.9915\n",
      "Epoch 183/200\n",
      "10000/10000 [==============================] - 0s 5us/step - loss: 0.0243 - acc: 0.9912\n",
      "Epoch 184/200\n",
      "10000/10000 [==============================] - 0s 5us/step - loss: 0.0233 - acc: 0.9929\n",
      "Epoch 185/200\n",
      "10000/10000 [==============================] - 0s 5us/step - loss: 0.0252 - acc: 0.9924\n",
      "Epoch 186/200\n",
      "10000/10000 [==============================] - 0s 5us/step - loss: 0.0229 - acc: 0.9932\n",
      "Epoch 187/200\n",
      "10000/10000 [==============================] - 0s 5us/step - loss: 0.0238 - acc: 0.9925\n",
      "Epoch 188/200\n",
      "10000/10000 [==============================] - 0s 5us/step - loss: 0.0233 - acc: 0.9931\n",
      "Epoch 189/200\n",
      "10000/10000 [==============================] - 0s 5us/step - loss: 0.0216 - acc: 0.9935\n",
      "Epoch 190/200\n",
      "10000/10000 [==============================] - 0s 5us/step - loss: 0.0342 - acc: 0.9900\n",
      "Epoch 191/200\n",
      "10000/10000 [==============================] - 0s 5us/step - loss: 0.0391 - acc: 0.9849\n",
      "Epoch 192/200\n",
      "10000/10000 [==============================] - 0s 6us/step - loss: 0.0245 - acc: 0.9920\n",
      "Epoch 193/200\n",
      "10000/10000 [==============================] - 0s 5us/step - loss: 0.0675 - acc: 0.9798\n",
      "Epoch 194/200\n",
      "10000/10000 [==============================] - 0s 5us/step - loss: 0.0241 - acc: 0.9919\n",
      "Epoch 195/200\n",
      "10000/10000 [==============================] - 0s 5us/step - loss: 0.0194 - acc: 0.9947\n",
      "Epoch 196/200\n",
      "10000/10000 [==============================] - 0s 6us/step - loss: 0.0205 - acc: 0.9939\n",
      "Epoch 197/200\n",
      "10000/10000 [==============================] - 0s 6us/step - loss: 0.0192 - acc: 0.9948\n",
      "Epoch 198/200\n",
      "10000/10000 [==============================] - 0s 5us/step - loss: 0.0197 - acc: 0.9938\n",
      "Epoch 199/200\n",
      "10000/10000 [==============================] - 0s 5us/step - loss: 0.0199 - acc: 0.9945\n",
      "Epoch 200/200\n",
      "10000/10000 [==============================] - 0s 5us/step - loss: 0.0358 - acc: 0.9887\n"
     ]
    },
    {
     "data": {
      "text/plain": [
       "<keras.callbacks.History at 0x20a642920f0>"
      ]
     },
     "execution_count": 10,
     "metadata": {},
     "output_type": "execute_result"
    }
   ],
   "source": [
    "model.fit(x_train, y_train, epochs=200, batch_size=256)"
   ]
  },
  {
   "cell_type": "code",
   "execution_count": 11,
   "metadata": {
    "scrolled": true
   },
   "outputs": [
    {
     "name": "stdout",
     "output_type": "stream",
     "text": [
      "1000/1000 [==============================] - 0s 33us/step\n",
      "[0.04175947864353657, 0.9839999966621399]\n"
     ]
    }
   ],
   "source": [
    "score = model.evaluate(x_test, y_test, batch_size=256)\n",
    "print(score)"
   ]
  },
  {
   "cell_type": "code",
   "execution_count": 12,
   "metadata": {},
   "outputs": [],
   "source": [
    "import json\n",
    "import csv\n",
    "with open('model_config.json', 'w') as modelfile:  \n",
    "    json.dump(model.get_config(), modelfile)"
   ]
  },
  {
   "cell_type": "code",
   "execution_count": 13,
   "metadata": {},
   "outputs": [],
   "source": [
    "def rows_of(array):\n",
    "    if len(array.shape) > 1:\n",
    "        for n in range(array.shape[0]):\n",
    "            yield (n, array[n])\n",
    "    else:\n",
    "        yield (0, array)\n",
    "        \n",
    "with open('weights.csv', 'w', newline='') as csvfile:\n",
    "    weightswriter = csv.writer(csvfile, delimiter=',', quoting=csv.QUOTE_MINIMAL)\n",
    "    for layer in model.layers:\n",
    "        for weight_variable in layer.weights:\n",
    "            weight_values = K.batch_get_value(weight_variable)\n",
    "            for (row_num, row_array) in rows_of(weight_values):\n",
    "                if len(weight_values.shape) > 1:\n",
    "                    row_count = weight_values.shape[0]\n",
    "                    col_count = weight_values.shape[1]\n",
    "                else:\n",
    "                    row_count = 1\n",
    "                    col_count = weight_values.shape[0]                    \n",
    "                csv_row = [layer.name, weight_variable.name,\n",
    "                           row_count, col_count, row_num] + list(row_array)\n",
    "                weightswriter.writerow(csv_row)"
   ]
  },
  {
   "cell_type": "code",
   "execution_count": 14,
   "metadata": {},
   "outputs": [
    {
     "name": "stderr",
     "output_type": "stream",
     "text": [
      "[NbConvertApp] Converting notebook train_rotation_order.ipynb to python\n",
      "[NbConvertApp] Writing 4554 bytes to train_rotation_order.py\n"
     ]
    }
   ],
   "source": [
    "!jupyter nbconvert --to python train_rotation_order.ipynb --template=python_script.tpl"
   ]
  },
  {
   "cell_type": "code",
   "execution_count": null,
   "metadata": {},
   "outputs": [],
   "source": []
  }
 ],
 "metadata": {
  "kernelspec": {
   "display_name": "Python 3",
   "language": "python",
   "name": "python3"
  },
  "language_info": {
   "codemirror_mode": {
    "name": "ipython",
    "version": 3
   },
   "file_extension": ".py",
   "mimetype": "text/x-python",
   "name": "python",
   "nbconvert_exporter": "python",
   "pygments_lexer": "ipython3",
   "version": "3.6.8"
  }
 },
 "nbformat": 4,
 "nbformat_minor": 2
}
