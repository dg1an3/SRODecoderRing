{
 "cells": [
  {
   "cell_type": "markdown",
   "metadata": {},
   "source": [
    "## Dependencies\n",
    "* standard libraries: random, math, itertools\n",
    "* numpy scipy\n",
    "* keras / tensorflow"
   ]
  },
  {
   "cell_type": "code",
   "execution_count": 3,
   "metadata": {},
   "outputs": [],
   "source": [
    "import random\n",
    "import math\n",
    "from itertools import permutations\n",
    "import numpy as np\n",
    "from scipy.spatial.transform import Rotation as R"
   ]
  },
  {
   "cell_type": "code",
   "execution_count": 4,
   "metadata": {},
   "outputs": [
    {
     "name": "stderr",
     "output_type": "stream",
     "text": [
      "Using TensorFlow backend.\n"
     ]
    },
    {
     "data": {
      "text/plain": [
       "'tensorflow'"
      ]
     },
     "execution_count": 4,
     "metadata": {},
     "output_type": "execute_result"
    }
   ],
   "source": [
    "import keras\n",
    "from keras.models import Sequential\n",
    "from keras.layers import Dense, Dropout, Activation, BatchNormalization\n",
    "from keras.optimizers import SGD, Adam\n",
    "from keras.preprocessing.image import ImageDataGenerator\n",
    "from keras import backend as K\n",
    "K.backend()"
   ]
  },
  {
   "cell_type": "markdown",
   "metadata": {},
   "source": [
    "## Model"
   ]
  },
  {
   "cell_type": "code",
   "execution_count": 5,
   "metadata": {},
   "outputs": [
    {
     "data": {
      "text/plain": [
       "['zxy', 'zyx', 'xzy', 'xyz', 'yzx', 'yxz']"
      ]
     },
     "execution_count": 5,
     "metadata": {},
     "output_type": "execute_result"
    }
   ],
   "source": [
    "all_rotation_orders = [''.join(axes) for axes in permutations({'x','y','z'})]\n",
    "all_rotation_orders"
   ]
  },
  {
   "cell_type": "code",
   "execution_count": 6,
   "metadata": {},
   "outputs": [
    {
     "data": {
      "text/plain": [
       "array([ 0.39354099, -2.51519837,  3.3430338 , -0.27819459, -1.9238247 ,\n",
       "        3.78029716,  2.34341383, -4.85547446, -2.91900228,  1.04633776])"
      ]
     },
     "execution_count": 6,
     "metadata": {},
     "output_type": "execute_result"
    }
   ],
   "source": [
    "def random_vector(n, mag):\n",
    "    return 2.0 * mag * (0.5-np.random.random(size=n))\n",
    "random_vector(10,5.0)"
   ]
  },
  {
   "cell_type": "markdown",
   "metadata": {},
   "source": [
    "define a function to generate a single sample from the model.\n",
    "\n",
    "sample is a tuple of:\n",
    "* np.array with 9 matrix elements + 3 rotation angles\n",
    "* string corresponding to chosen rotation order (element of all_rotation_orders)"
   ]
  },
  {
   "cell_type": "code",
   "execution_count": 7,
   "metadata": {},
   "outputs": [
    {
     "data": {
      "text/plain": [
       "(array([ 9.85259481e-01,  1.69878163e-01,  2.01287259e-02, -1.69680941e-01,\n",
       "         9.85436043e-01, -1.11437213e-02, -2.17286470e-02,  7.56399594e-03,\n",
       "         9.99735291e-01,  1.18077686e+00, -9.68395470e+00,  3.48995296e-01]),\n",
       " 'yzx')"
      ]
     },
     "execution_count": 7,
     "metadata": {},
     "output_type": "execute_result"
    }
   ],
   "source": [
    "def generate_sample_from_model():\n",
    "    rotation_order = random.choice(all_rotation_orders)  # choose a rotation order\n",
    "    angles = random_vector(3, 10.0)   # generate three random angles (in degrees)\n",
    "    if (min(abs(angles)) < 0.1):     # reject any angles that are too small\n",
    "        return generate_sample_from_model()\n",
    "    matrix = R.from_euler(rotation_order, angles, degrees = True)  # generate matrix\n",
    "    noise_angles = angles + random_vector(3, 0.1)    \n",
    "    x = np.concatenate((matrix.as_dcm().flatten(), \n",
    "                        np.array(noise_angles)))\n",
    "                        # np.array(np.cos(noise_angles)), \n",
    "                        # np.array(np.sin(noise_angles))))                         \n",
    "    return (x, rotation_order)\n",
    "generate_sample_from_model()"
   ]
  },
  {
   "cell_type": "markdown",
   "metadata": {},
   "source": [
    "define a function to generate multiple samples, suitable for training or testing.\n",
    "\n",
    "for number N, sample is a tuple:\n",
    " * np.array Nx12 of x vectors (standardized zero mean)\n",
    " * np.array Nx6 one-hot vectors"
   ]
  },
  {
   "cell_type": "code",
   "execution_count": 8,
   "metadata": {},
   "outputs": [
    {
     "data": {
      "text/plain": [
       "(array([[ 0.69839686,  0.74051702,  0.58504971, -0.6734823 ,  1.34762182,\n",
       "          0.59695347, -0.70265872, -0.47980557,  1.04083019, -1.35330207,\n",
       "         -0.22532857,  0.10522089],\n",
       "        [ 0.71578108,  0.67316178,  0.82250323, -0.74020648, -0.30241279,\n",
       "         -1.4087627 , -0.71154554,  1.39200519, -1.34957394,  1.03222119,\n",
       "         -1.09643467,  1.1687398 ],\n",
       "        [-1.41417795, -1.4136788 , -1.40755294,  1.41368878, -1.04520903,\n",
       "          0.81180923,  1.41420425, -0.91219963,  0.30874374,  0.32108087,\n",
       "          1.32176324, -1.27396069]]), array([[0., 0., 0., 0., 0., 1.],\n",
       "        [0., 1., 0., 0., 0., 0.],\n",
       "        [0., 0., 1., 0., 0., 0.]], dtype=float32))"
      ]
     },
     "execution_count": 8,
     "metadata": {},
     "output_type": "execute_result"
    }
   ],
   "source": [
    "def generate_samples(n):\n",
    "    [xs, rotation_orders] = list(zip(*[generate_sample_from_model() for _ in range(n)]))\n",
    "    xs = np.array(xs)\n",
    "    xs -= xs.mean(0)    # standardize along sample dimension\n",
    "    xs /= xs.std(0)\n",
    "    ys = [all_rotation_orders.index(rotation_order) for rotation_order in rotation_orders]\n",
    "    return xs, keras.utils.to_categorical(ys)\n",
    "generate_samples(3)"
   ]
  },
  {
   "cell_type": "markdown",
   "metadata": {},
   "source": [
    "generate training and testing data from the model"
   ]
  },
  {
   "cell_type": "code",
   "execution_count": 9,
   "metadata": {},
   "outputs": [
    {
     "data": {
      "text/plain": [
       "((10000, 12), (10000, 6))"
      ]
     },
     "execution_count": 9,
     "metadata": {},
     "output_type": "execute_result"
    }
   ],
   "source": [
    "x_train, y_train = generate_samples(10000)\n",
    "x_test, y_test = generate_samples(1000)\n",
    "x_train.shape, y_train.shape"
   ]
  },
  {
   "cell_type": "markdown",
   "metadata": {},
   "source": [
    "now create an MLP as the model"
   ]
  },
  {
   "cell_type": "code",
   "execution_count": 10,
   "metadata": {},
   "outputs": [
    {
     "name": "stdout",
     "output_type": "stream",
     "text": [
      "WARNING:tensorflow:From c:\\python35\\lib\\site-packages\\tensorflow\\python\\framework\\op_def_library.py:263: colocate_with (from tensorflow.python.framework.ops) is deprecated and will be removed in a future version.\n",
      "Instructions for updating:\n",
      "Colocations handled automatically by placer.\n",
      "Model: \"sequential_1\"\n",
      "_________________________________________________________________\n",
      "Layer (type)                 Output Shape              Param #   \n",
      "=================================================================\n",
      "dense_1 (Dense)              (None, 64)                832       \n",
      "_________________________________________________________________\n",
      "dense_2 (Dense)              (None, 32)                2080      \n",
      "_________________________________________________________________\n",
      "dense_3 (Dense)              (None, 32)                1056      \n",
      "_________________________________________________________________\n",
      "dense_4 (Dense)              (None, 6)                 198       \n",
      "=================================================================\n",
      "Total params: 4,166\n",
      "Trainable params: 4,166\n",
      "Non-trainable params: 0\n",
      "_________________________________________________________________\n"
     ]
    }
   ],
   "source": [
    "model = Sequential()\n",
    "model.add(Dense(64, activation='relu', input_dim = x_train.shape[1]))\n",
    "model.add(Dense(32, activation='relu'))\n",
    "model.add(Dense(32, activation='relu'))\n",
    "model.add(Dense(6, activation='softmax'))\n",
    "model.summary()"
   ]
  },
  {
   "cell_type": "markdown",
   "metadata": {},
   "source": [
    "set up the optimizer and compile the model"
   ]
  },
  {
   "cell_type": "code",
   "execution_count": 11,
   "metadata": {},
   "outputs": [],
   "source": [
    "adam = Adam(lr=0.001, decay=1e-8)\n",
    "model.compile(loss='categorical_crossentropy', optimizer=adam, metrics=['accuracy'])"
   ]
  },
  {
   "cell_type": "markdown",
   "metadata": {},
   "source": [
    "now fit the data using the training samples"
   ]
  },
  {
   "cell_type": "code",
   "execution_count": 12,
   "metadata": {
    "collapsed": true
   },
   "outputs": [
    {
     "name": "stdout",
     "output_type": "stream",
     "text": [
      "WARNING:tensorflow:From c:\\python35\\lib\\site-packages\\tensorflow\\python\\ops\\math_ops.py:3066: to_int32 (from tensorflow.python.ops.math_ops) is deprecated and will be removed in a future version.\n",
      "Instructions for updating:\n",
      "Use tf.cast instead.\n",
      "Epoch 1/200\n",
      "10000/10000 [==============================] - 0s 32us/step - loss: 1.7356 - acc: 0.2786\n",
      "Epoch 2/200\n",
      "10000/10000 [==============================] - 0s 6us/step - loss: 1.4911 - acc: 0.4860\n",
      "Epoch 3/200\n",
      "10000/10000 [==============================] - 0s 6us/step - loss: 1.0709 - acc: 0.6495\n",
      "Epoch 4/200\n",
      "10000/10000 [==============================] - 0s 8us/step - loss: 0.7180 - acc: 0.7702\n",
      "Epoch 5/200\n",
      "10000/10000 [==============================] - 0s 6us/step - loss: 0.5320 - acc: 0.8333\n",
      "Epoch 6/200\n",
      "10000/10000 [==============================] - 0s 6us/step - loss: 0.4335 - acc: 0.8659\n",
      "Epoch 7/200\n",
      "10000/10000 [==============================] - 0s 6us/step - loss: 0.3677 - acc: 0.8920\n",
      "Epoch 8/200\n",
      "10000/10000 [==============================] - 0s 7us/step - loss: 0.3259 - acc: 0.9007\n",
      "Epoch 9/200\n",
      "10000/10000 [==============================] - 0s 7us/step - loss: 0.2895 - acc: 0.9153\n",
      "Epoch 10/200\n",
      "10000/10000 [==============================] - 0s 6us/step - loss: 0.2617 - acc: 0.9272\n",
      "Epoch 11/200\n",
      "10000/10000 [==============================] - 0s 7us/step - loss: 0.2414 - acc: 0.9303\n",
      "Epoch 12/200\n",
      "10000/10000 [==============================] - 0s 8us/step - loss: 0.2239 - acc: 0.9323\n",
      "Epoch 13/200\n",
      "10000/10000 [==============================] - 0s 6us/step - loss: 0.2096 - acc: 0.9406\n",
      "Epoch 14/200\n",
      "10000/10000 [==============================] - 0s 6us/step - loss: 0.1979 - acc: 0.9420\n",
      "Epoch 15/200\n",
      "10000/10000 [==============================] - 0s 6us/step - loss: 0.1822 - acc: 0.9523\n",
      "Epoch 16/200\n",
      "10000/10000 [==============================] - 0s 7us/step - loss: 0.1805 - acc: 0.9442\n",
      "Epoch 17/200\n",
      "10000/10000 [==============================] - 0s 6us/step - loss: 0.1662 - acc: 0.9531\n",
      "Epoch 18/200\n",
      "10000/10000 [==============================] - 0s 6us/step - loss: 0.1601 - acc: 0.9531\n",
      "Epoch 19/200\n",
      "10000/10000 [==============================] - 0s 7us/step - loss: 0.1539 - acc: 0.9528\n",
      "Epoch 20/200\n",
      "10000/10000 [==============================] - 0s 7us/step - loss: 0.1447 - acc: 0.9599\n",
      "Epoch 21/200\n",
      "10000/10000 [==============================] - 0s 7us/step - loss: 0.1402 - acc: 0.9600\n",
      "Epoch 22/200\n",
      "10000/10000 [==============================] - 0s 7us/step - loss: 0.1363 - acc: 0.9610\n",
      "Epoch 23/200\n",
      "10000/10000 [==============================] - 0s 6us/step - loss: 0.1287 - acc: 0.9655\n",
      "Epoch 24/200\n",
      "10000/10000 [==============================] - 0s 7us/step - loss: 0.1286 - acc: 0.9634\n",
      "Epoch 25/200\n",
      "10000/10000 [==============================] - 0s 7us/step - loss: 0.1198 - acc: 0.9695\n",
      "Epoch 26/200\n",
      "10000/10000 [==============================] - 0s 6us/step - loss: 0.1142 - acc: 0.9702\n",
      "Epoch 27/200\n",
      "10000/10000 [==============================] - 0s 7us/step - loss: 0.1238 - acc: 0.9640\n",
      "Epoch 28/200\n",
      "10000/10000 [==============================] - 0s 7us/step - loss: 0.1089 - acc: 0.9722\n",
      "Epoch 29/200\n",
      "10000/10000 [==============================] - 0s 6us/step - loss: 0.1084 - acc: 0.9707\n",
      "Epoch 30/200\n",
      "10000/10000 [==============================] - 0s 7us/step - loss: 0.1023 - acc: 0.9738\n",
      "Epoch 31/200\n",
      "10000/10000 [==============================] - 0s 8us/step - loss: 0.1050 - acc: 0.9714\n",
      "Epoch 32/200\n",
      "10000/10000 [==============================] - 0s 7us/step - loss: 0.0960 - acc: 0.9760\n",
      "Epoch 33/200\n",
      "10000/10000 [==============================] - 0s 6us/step - loss: 0.1000 - acc: 0.9702\n",
      "Epoch 34/200\n",
      "10000/10000 [==============================] - 0s 7us/step - loss: 0.0960 - acc: 0.9741\n",
      "Epoch 35/200\n",
      "10000/10000 [==============================] - 0s 8us/step - loss: 0.0957 - acc: 0.9709\n",
      "Epoch 36/200\n",
      "10000/10000 [==============================] - 0s 7us/step - loss: 0.0887 - acc: 0.9757\n",
      "Epoch 37/200\n",
      "10000/10000 [==============================] - 0s 6us/step - loss: 0.0866 - acc: 0.9763\n",
      "Epoch 38/200\n",
      "10000/10000 [==============================] - 0s 8us/step - loss: 0.0845 - acc: 0.9791\n",
      "Epoch 39/200\n",
      "10000/10000 [==============================] - 0s 8us/step - loss: 0.0929 - acc: 0.9721\n",
      "Epoch 40/200\n",
      "10000/10000 [==============================] - 0s 8us/step - loss: 0.0842 - acc: 0.9769\n",
      "Epoch 41/200\n",
      "10000/10000 [==============================] - 0s 8us/step - loss: 0.0800 - acc: 0.9791\n",
      "Epoch 42/200\n",
      "10000/10000 [==============================] - 0s 8us/step - loss: 0.0774 - acc: 0.9808\n",
      "Epoch 43/200\n",
      "10000/10000 [==============================] - 0s 9us/step - loss: 0.0821 - acc: 0.9747\n",
      "Epoch 44/200\n",
      "10000/10000 [==============================] - 0s 9us/step - loss: 0.0792 - acc: 0.9770\n",
      "Epoch 45/200\n",
      "10000/10000 [==============================] - 0s 9us/step - loss: 0.0716 - acc: 0.9812\n",
      "Epoch 46/200\n",
      "10000/10000 [==============================] - 0s 8us/step - loss: 0.0710 - acc: 0.9806\n",
      "Epoch 47/200\n",
      "10000/10000 [==============================] - 0s 9us/step - loss: 0.0687 - acc: 0.9820\n",
      "Epoch 48/200\n",
      "10000/10000 [==============================] - 0s 9us/step - loss: 0.0690 - acc: 0.9799\n",
      "Epoch 49/200\n",
      "10000/10000 [==============================] - 0s 8us/step - loss: 0.0714 - acc: 0.9786\n",
      "Epoch 50/200\n",
      "10000/10000 [==============================] - 0s 7us/step - loss: 0.0663 - acc: 0.9823\n",
      "Epoch 51/200\n",
      "10000/10000 [==============================] - 0s 7us/step - loss: 0.0747 - acc: 0.9775\n",
      "Epoch 52/200\n",
      "10000/10000 [==============================] - 0s 8us/step - loss: 0.0623 - acc: 0.9836\n",
      "Epoch 53/200\n",
      "10000/10000 [==============================] - 0s 7us/step - loss: 0.0646 - acc: 0.9820\n",
      "Epoch 54/200\n",
      "10000/10000 [==============================] - 0s 10us/step - loss: 0.0669 - acc: 0.9816\n",
      "Epoch 55/200\n",
      "10000/10000 [==============================] - 0s 8us/step - loss: 0.0620 - acc: 0.9837\n",
      "Epoch 56/200\n",
      "10000/10000 [==============================] - 0s 8us/step - loss: 0.0606 - acc: 0.9829\n",
      "Epoch 57/200\n",
      "10000/10000 [==============================] - 0s 7us/step - loss: 0.0613 - acc: 0.9834\n",
      "Epoch 58/200\n",
      "10000/10000 [==============================] - 0s 11us/step - loss: 0.0656 - acc: 0.9786\n",
      "Epoch 59/200\n",
      "10000/10000 [==============================] - 0s 7us/step - loss: 0.0536 - acc: 0.9870\n",
      "Epoch 60/200\n",
      "10000/10000 [==============================] - 0s 7us/step - loss: 0.0588 - acc: 0.9842\n",
      "Epoch 61/200\n",
      "10000/10000 [==============================] - 0s 7us/step - loss: 0.0568 - acc: 0.9836\n",
      "Epoch 62/200\n",
      "10000/10000 [==============================] - 0s 7us/step - loss: 0.0569 - acc: 0.9840\n",
      "Epoch 63/200\n",
      "10000/10000 [==============================] - 0s 7us/step - loss: 0.0532 - acc: 0.9851\n",
      "Epoch 64/200\n",
      "10000/10000 [==============================] - 0s 7us/step - loss: 0.0555 - acc: 0.9851\n",
      "Epoch 65/200\n",
      "10000/10000 [==============================] - 0s 7us/step - loss: 0.0541 - acc: 0.9846\n",
      "Epoch 66/200\n",
      "10000/10000 [==============================] - 0s 7us/step - loss: 0.0505 - acc: 0.9863\n",
      "Epoch 67/200\n",
      "10000/10000 [==============================] - 0s 8us/step - loss: 0.0485 - acc: 0.9879\n",
      "Epoch 68/200\n",
      "10000/10000 [==============================] - 0s 7us/step - loss: 0.0487 - acc: 0.9876\n",
      "Epoch 69/200\n",
      "10000/10000 [==============================] - 0s 6us/step - loss: 0.0476 - acc: 0.9877\n",
      "Epoch 70/200\n",
      "10000/10000 [==============================] - 0s 9us/step - loss: 0.0491 - acc: 0.9858\n",
      "Epoch 71/200\n",
      "10000/10000 [==============================] - 0s 10us/step - loss: 0.0477 - acc: 0.9857\n",
      "Epoch 72/200\n",
      "10000/10000 [==============================] - 0s 8us/step - loss: 0.0433 - acc: 0.9898\n",
      "Epoch 73/200\n",
      "10000/10000 [==============================] - 0s 10us/step - loss: 0.0438 - acc: 0.9893\n",
      "Epoch 74/200\n",
      "10000/10000 [==============================] - 0s 9us/step - loss: 0.0455 - acc: 0.9860\n",
      "Epoch 75/200\n",
      "10000/10000 [==============================] - 0s 9us/step - loss: 0.0411 - acc: 0.9905\n",
      "Epoch 76/200\n",
      "10000/10000 [==============================] - 0s 6us/step - loss: 0.0440 - acc: 0.9879\n",
      "Epoch 77/200\n",
      "10000/10000 [==============================] - 0s 6us/step - loss: 0.0416 - acc: 0.9889\n",
      "Epoch 78/200\n",
      "10000/10000 [==============================] - 0s 7us/step - loss: 0.0452 - acc: 0.9891\n",
      "Epoch 79/200\n"
     ]
    },
    {
     "name": "stdout",
     "output_type": "stream",
     "text": [
      "10000/10000 [==============================] - 0s 9us/step - loss: 0.0499 - acc: 0.9832\n",
      "Epoch 80/200\n",
      "10000/10000 [==============================] - 0s 6us/step - loss: 0.0432 - acc: 0.9877\n",
      "Epoch 81/200\n",
      "10000/10000 [==============================] - 0s 6us/step - loss: 0.0436 - acc: 0.9872\n",
      "Epoch 82/200\n",
      "10000/10000 [==============================] - 0s 6us/step - loss: 0.0418 - acc: 0.9871\n",
      "Epoch 83/200\n",
      "10000/10000 [==============================] - 0s 6us/step - loss: 0.0385 - acc: 0.9898\n",
      "Epoch 84/200\n",
      "10000/10000 [==============================] - 0s 6us/step - loss: 0.0377 - acc: 0.9909\n",
      "Epoch 85/200\n",
      "10000/10000 [==============================] - 0s 6us/step - loss: 0.0410 - acc: 0.9885\n",
      "Epoch 86/200\n",
      "10000/10000 [==============================] - 0s 7us/step - loss: 0.0392 - acc: 0.9889\n",
      "Epoch 87/200\n",
      "10000/10000 [==============================] - 0s 7us/step - loss: 0.0371 - acc: 0.9909\n",
      "Epoch 88/200\n",
      "10000/10000 [==============================] - 0s 6us/step - loss: 0.0395 - acc: 0.9888\n",
      "Epoch 89/200\n",
      "10000/10000 [==============================] - 0s 7us/step - loss: 0.0391 - acc: 0.9888\n",
      "Epoch 90/200\n",
      "10000/10000 [==============================] - 0s 8us/step - loss: 0.0443 - acc: 0.9867\n",
      "Epoch 91/200\n",
      "10000/10000 [==============================] - 0s 8us/step - loss: 0.0409 - acc: 0.9877\n",
      "Epoch 92/200\n",
      "10000/10000 [==============================] - 0s 7us/step - loss: 0.0419 - acc: 0.9868\n",
      "Epoch 93/200\n",
      "10000/10000 [==============================] - 0s 6us/step - loss: 0.0381 - acc: 0.9896\n",
      "Epoch 94/200\n",
      "10000/10000 [==============================] - 0s 6us/step - loss: 0.0363 - acc: 0.9880\n",
      "Epoch 95/200\n",
      "10000/10000 [==============================] - 0s 6us/step - loss: 0.0352 - acc: 0.9899\n",
      "Epoch 96/200\n",
      "10000/10000 [==============================] - 0s 8us/step - loss: 0.0388 - acc: 0.9876\n",
      "Epoch 97/200\n",
      "10000/10000 [==============================] - 0s 6us/step - loss: 0.0357 - acc: 0.9897\n",
      "Epoch 98/200\n",
      "10000/10000 [==============================] - 0s 6us/step - loss: 0.0324 - acc: 0.9908\n",
      "Epoch 99/200\n",
      "10000/10000 [==============================] - 0s 6us/step - loss: 0.0472 - acc: 0.9835\n",
      "Epoch 100/200\n",
      "10000/10000 [==============================] - 0s 7us/step - loss: 0.0336 - acc: 0.9902\n",
      "Epoch 101/200\n",
      "10000/10000 [==============================] - 0s 7us/step - loss: 0.0378 - acc: 0.9876\n",
      "Epoch 102/200\n",
      "10000/10000 [==============================] - 0s 7us/step - loss: 0.0320 - acc: 0.9910\n",
      "Epoch 103/200\n",
      "10000/10000 [==============================] - 0s 6us/step - loss: 0.0306 - acc: 0.9913\n",
      "Epoch 104/200\n",
      "10000/10000 [==============================] - 0s 6us/step - loss: 0.0576 - acc: 0.9804\n",
      "Epoch 105/200\n",
      "10000/10000 [==============================] - 0s 7us/step - loss: 0.0349 - acc: 0.9884\n",
      "Epoch 106/200\n",
      "10000/10000 [==============================] - 0s 7us/step - loss: 0.0348 - acc: 0.9898\n",
      "Epoch 107/200\n",
      "10000/10000 [==============================] - 0s 6us/step - loss: 0.0356 - acc: 0.9890\n",
      "Epoch 108/200\n",
      "10000/10000 [==============================] - 0s 6us/step - loss: 0.0303 - acc: 0.9915\n",
      "Epoch 109/200\n",
      "10000/10000 [==============================] - 0s 6us/step - loss: 0.0292 - acc: 0.9924\n",
      "Epoch 110/200\n",
      "10000/10000 [==============================] - 0s 6us/step - loss: 0.0330 - acc: 0.9901\n",
      "Epoch 111/200\n",
      "10000/10000 [==============================] - 0s 7us/step - loss: 0.0345 - acc: 0.9889\n",
      "Epoch 112/200\n",
      "10000/10000 [==============================] - 0s 6us/step - loss: 0.0337 - acc: 0.9892\n",
      "Epoch 113/200\n",
      "10000/10000 [==============================] - 0s 6us/step - loss: 0.0274 - acc: 0.9930\n",
      "Epoch 114/200\n",
      "10000/10000 [==============================] - 0s 8us/step - loss: 0.0332 - acc: 0.9897\n",
      "Epoch 115/200\n",
      "10000/10000 [==============================] - 0s 8us/step - loss: 0.0281 - acc: 0.9920\n",
      "Epoch 116/200\n",
      "10000/10000 [==============================] - 0s 7us/step - loss: 0.0294 - acc: 0.9916\n",
      "Epoch 117/200\n",
      "10000/10000 [==============================] - 0s 7us/step - loss: 0.0264 - acc: 0.9926\n",
      "Epoch 118/200\n",
      "10000/10000 [==============================] - 0s 7us/step - loss: 0.0279 - acc: 0.9917\n",
      "Epoch 119/200\n",
      "10000/10000 [==============================] - 0s 6us/step - loss: 0.0259 - acc: 0.9928\n",
      "Epoch 120/200\n",
      "10000/10000 [==============================] - 0s 7us/step - loss: 0.0285 - acc: 0.9919\n",
      "Epoch 121/200\n",
      "10000/10000 [==============================] - 0s 7us/step - loss: 0.0317 - acc: 0.9890\n",
      "Epoch 122/200\n",
      "10000/10000 [==============================] - 0s 8us/step - loss: 0.0267 - acc: 0.9924\n",
      "Epoch 123/200\n",
      "10000/10000 [==============================] - 0s 7us/step - loss: 0.0276 - acc: 0.9915\n",
      "Epoch 124/200\n",
      "10000/10000 [==============================] - 0s 7us/step - loss: 0.0264 - acc: 0.9921\n",
      "Epoch 125/200\n",
      "10000/10000 [==============================] - 0s 7us/step - loss: 0.0251 - acc: 0.9931\n",
      "Epoch 126/200\n",
      "10000/10000 [==============================] - 0s 7us/step - loss: 0.0303 - acc: 0.9903\n",
      "Epoch 127/200\n",
      "10000/10000 [==============================] - 0s 8us/step - loss: 0.0271 - acc: 0.9919\n",
      "Epoch 128/200\n",
      "10000/10000 [==============================] - 0s 7us/step - loss: 0.0272 - acc: 0.9912\n",
      "Epoch 129/200\n",
      "10000/10000 [==============================] - 0s 6us/step - loss: 0.0270 - acc: 0.9904\n",
      "Epoch 130/200\n",
      "10000/10000 [==============================] - 0s 6us/step - loss: 0.0320 - acc: 0.9902\n",
      "Epoch 131/200\n",
      "10000/10000 [==============================] - 0s 7us/step - loss: 0.0279 - acc: 0.9911\n",
      "Epoch 132/200\n",
      "10000/10000 [==============================] - 0s 7us/step - loss: 0.0283 - acc: 0.9907\n",
      "Epoch 133/200\n",
      "10000/10000 [==============================] - 0s 7us/step - loss: 0.0268 - acc: 0.9918\n",
      "Epoch 134/200\n",
      "10000/10000 [==============================] - 0s 7us/step - loss: 0.0257 - acc: 0.9924\n",
      "Epoch 135/200\n",
      "10000/10000 [==============================] - 0s 7us/step - loss: 0.0426 - acc: 0.9858\n",
      "Epoch 136/200\n",
      "10000/10000 [==============================] - 0s 8us/step - loss: 0.0331 - acc: 0.9874\n",
      "Epoch 137/200\n",
      "10000/10000 [==============================] - 0s 7us/step - loss: 0.0428 - acc: 0.9849\n",
      "Epoch 138/200\n",
      "10000/10000 [==============================] - 0s 7us/step - loss: 0.0373 - acc: 0.9864\n",
      "Epoch 139/200\n",
      "10000/10000 [==============================] - 0s 6us/step - loss: 0.0340 - acc: 0.9878\n",
      "Epoch 140/200\n",
      "10000/10000 [==============================] - 0s 7us/step - loss: 0.0289 - acc: 0.9907\n",
      "Epoch 141/200\n",
      "10000/10000 [==============================] - 0s 7us/step - loss: 0.0265 - acc: 0.9911\n",
      "Epoch 142/200\n",
      "10000/10000 [==============================] - 0s 7us/step - loss: 0.0229 - acc: 0.9934\n",
      "Epoch 143/200\n",
      "10000/10000 [==============================] - 0s 6us/step - loss: 0.0232 - acc: 0.9924\n",
      "Epoch 144/200\n",
      "10000/10000 [==============================] - 0s 7us/step - loss: 0.0259 - acc: 0.9920\n",
      "Epoch 145/200\n",
      "10000/10000 [==============================] - 0s 7us/step - loss: 0.0223 - acc: 0.9943\n",
      "Epoch 146/200\n",
      "10000/10000 [==============================] - 0s 7us/step - loss: 0.0211 - acc: 0.9947\n",
      "Epoch 147/200\n",
      "10000/10000 [==============================] - 0s 7us/step - loss: 0.0229 - acc: 0.9932\n",
      "Epoch 148/200\n",
      "10000/10000 [==============================] - 0s 7us/step - loss: 0.0224 - acc: 0.9937\n",
      "Epoch 149/200\n",
      "10000/10000 [==============================] - 0s 7us/step - loss: 0.0231 - acc: 0.9924\n",
      "Epoch 150/200\n",
      "10000/10000 [==============================] - 0s 6us/step - loss: 0.0228 - acc: 0.9933\n",
      "Epoch 151/200\n",
      "10000/10000 [==============================] - 0s 7us/step - loss: 0.0210 - acc: 0.9939\n",
      "Epoch 152/200\n",
      "10000/10000 [==============================] - 0s 6us/step - loss: 0.0214 - acc: 0.9940\n",
      "Epoch 153/200\n",
      "10000/10000 [==============================] - 0s 7us/step - loss: 0.0220 - acc: 0.9929\n",
      "Epoch 154/200\n",
      "10000/10000 [==============================] - 0s 7us/step - loss: 0.0283 - acc: 0.9906\n",
      "Epoch 155/200\n",
      "10000/10000 [==============================] - 0s 8us/step - loss: 0.0257 - acc: 0.9921\n",
      "Epoch 156/200\n",
      "10000/10000 [==============================] - 0s 7us/step - loss: 0.0227 - acc: 0.9938\n",
      "Epoch 157/200\n",
      "10000/10000 [==============================] - 0s 9us/step - loss: 0.0244 - acc: 0.9924\n",
      "Epoch 158/200\n",
      "10000/10000 [==============================] - 0s 6us/step - loss: 0.0222 - acc: 0.9927\n",
      "Epoch 159/200\n"
     ]
    },
    {
     "name": "stdout",
     "output_type": "stream",
     "text": [
      "10000/10000 [==============================] - 0s 7us/step - loss: 0.0431 - acc: 0.9855\n",
      "Epoch 160/200\n",
      "10000/10000 [==============================] - 0s 7us/step - loss: 0.0242 - acc: 0.9911\n",
      "Epoch 161/200\n",
      "10000/10000 [==============================] - 0s 6us/step - loss: 0.0217 - acc: 0.9929\n",
      "Epoch 162/200\n",
      "10000/10000 [==============================] - 0s 10us/step - loss: 0.0216 - acc: 0.9933\n",
      "Epoch 163/200\n",
      "10000/10000 [==============================] - 0s 7us/step - loss: 0.0218 - acc: 0.9928\n",
      "Epoch 164/200\n",
      "10000/10000 [==============================] - 0s 7us/step - loss: 0.0227 - acc: 0.9933\n",
      "Epoch 165/200\n",
      "10000/10000 [==============================] - 0s 6us/step - loss: 0.0276 - acc: 0.9902\n",
      "Epoch 166/200\n",
      "10000/10000 [==============================] - 0s 6us/step - loss: 0.0206 - acc: 0.9940\n",
      "Epoch 167/200\n",
      "10000/10000 [==============================] - 0s 6us/step - loss: 0.0275 - acc: 0.9907\n",
      "Epoch 168/200\n",
      "10000/10000 [==============================] - 0s 6us/step - loss: 0.0300 - acc: 0.9894\n",
      "Epoch 169/200\n",
      "10000/10000 [==============================] - 0s 6us/step - loss: 0.0200 - acc: 0.9946\n",
      "Epoch 170/200\n",
      "10000/10000 [==============================] - 0s 6us/step - loss: 0.0198 - acc: 0.9943\n",
      "Epoch 171/200\n",
      "10000/10000 [==============================] - 0s 6us/step - loss: 0.0220 - acc: 0.9928\n",
      "Epoch 172/200\n",
      "10000/10000 [==============================] - 0s 6us/step - loss: 0.0293 - acc: 0.9902\n",
      "Epoch 173/200\n",
      "10000/10000 [==============================] - 0s 7us/step - loss: 0.0205 - acc: 0.9934\n",
      "Epoch 174/200\n",
      "10000/10000 [==============================] - 0s 6us/step - loss: 0.0195 - acc: 0.9939\n",
      "Epoch 175/200\n",
      "10000/10000 [==============================] - 0s 6us/step - loss: 0.0183 - acc: 0.9945\n",
      "Epoch 176/200\n",
      "10000/10000 [==============================] - 0s 6us/step - loss: 0.0203 - acc: 0.9929\n",
      "Epoch 177/200\n",
      "10000/10000 [==============================] - 0s 6us/step - loss: 0.0226 - acc: 0.9924\n",
      "Epoch 178/200\n",
      "10000/10000 [==============================] - 0s 7us/step - loss: 0.0190 - acc: 0.9940\n",
      "Epoch 179/200\n",
      "10000/10000 [==============================] - 0s 7us/step - loss: 0.0570 - acc: 0.9826\n",
      "Epoch 180/200\n",
      "10000/10000 [==============================] - 0s 6us/step - loss: 0.0244 - acc: 0.9914\n",
      "Epoch 181/200\n",
      "10000/10000 [==============================] - 0s 6us/step - loss: 0.0184 - acc: 0.9945\n",
      "Epoch 182/200\n",
      "10000/10000 [==============================] - 0s 6us/step - loss: 0.0170 - acc: 0.9957\n",
      "Epoch 183/200\n",
      "10000/10000 [==============================] - 0s 6us/step - loss: 0.0178 - acc: 0.9944\n",
      "Epoch 184/200\n",
      "10000/10000 [==============================] - 0s 6us/step - loss: 0.0188 - acc: 0.9948\n",
      "Epoch 185/200\n",
      "10000/10000 [==============================] - 0s 7us/step - loss: 0.0280 - acc: 0.9900\n",
      "Epoch 186/200\n",
      "10000/10000 [==============================] - 0s 6us/step - loss: 0.0206 - acc: 0.9934\n",
      "Epoch 187/200\n",
      "10000/10000 [==============================] - 0s 6us/step - loss: 0.0287 - acc: 0.9899\n",
      "Epoch 188/200\n",
      "10000/10000 [==============================] - 0s 7us/step - loss: 0.0235 - acc: 0.9923\n",
      "Epoch 189/200\n",
      "10000/10000 [==============================] - 0s 6us/step - loss: 0.0199 - acc: 0.9928\n",
      "Epoch 190/200\n",
      "10000/10000 [==============================] - 0s 7us/step - loss: 0.0191 - acc: 0.9938\n",
      "Epoch 191/200\n",
      "10000/10000 [==============================] - 0s 7us/step - loss: 0.0714 - acc: 0.9805\n",
      "Epoch 192/200\n",
      "10000/10000 [==============================] - 0s 6us/step - loss: 0.0233 - acc: 0.9915\n",
      "Epoch 193/200\n",
      "10000/10000 [==============================] - 0s 7us/step - loss: 0.0193 - acc: 0.9936\n",
      "Epoch 194/200\n",
      "10000/10000 [==============================] - 0s 8us/step - loss: 0.0187 - acc: 0.9936\n",
      "Epoch 195/200\n",
      "10000/10000 [==============================] - 0s 7us/step - loss: 0.0178 - acc: 0.9945\n",
      "Epoch 196/200\n",
      "10000/10000 [==============================] - 0s 7us/step - loss: 0.0208 - acc: 0.9929\n",
      "Epoch 197/200\n",
      "10000/10000 [==============================] - 0s 7us/step - loss: 0.0202 - acc: 0.9926\n",
      "Epoch 198/200\n",
      "10000/10000 [==============================] - 0s 6us/step - loss: 0.0180 - acc: 0.9940\n",
      "Epoch 199/200\n",
      "10000/10000 [==============================] - 0s 7us/step - loss: 0.0163 - acc: 0.9952\n",
      "Epoch 200/200\n",
      "10000/10000 [==============================] - 0s 7us/step - loss: 0.0194 - acc: 0.9945\n"
     ]
    },
    {
     "data": {
      "text/plain": [
       "<keras.callbacks.History at 0x1b8a5c50>"
      ]
     },
     "execution_count": 12,
     "metadata": {},
     "output_type": "execute_result"
    }
   ],
   "source": [
    "model.fit(x_train, y_train, epochs=200, batch_size=256)"
   ]
  },
  {
   "cell_type": "code",
   "execution_count": 13,
   "metadata": {
    "scrolled": true
   },
   "outputs": [
    {
     "name": "stdout",
     "output_type": "stream",
     "text": [
      "1000/1000 [==============================] - 0s 49us/step\n",
      "[0.16887659102678299, 0.941000006198883]\n"
     ]
    }
   ],
   "source": [
    "score = model.evaluate(x_test, y_test, batch_size=256)\n",
    "print(score)"
   ]
  },
  {
   "cell_type": "code",
   "execution_count": 29,
   "metadata": {},
   "outputs": [],
   "source": [
    "import json\n",
    "import csv\n",
    "with open('model_config.json', 'w') as modelfile:  \n",
    "    json.dump(model.get_config(), modelfile)"
   ]
  },
  {
   "cell_type": "code",
   "execution_count": 28,
   "metadata": {},
   "outputs": [],
   "source": [
    "def rows_of(array):\n",
    "    if len(array.shape) > 1:\n",
    "        for n in range(array.shape[0]):\n",
    "            yield (n, array[n])\n",
    "    else:\n",
    "        yield (0, array)\n",
    "        \n",
    "with open('weights.csv', 'w', newline='') as csvfile:\n",
    "    weightswriter = csv.writer(csvfile, delimiter=',', quoting=csv.QUOTE_MINIMAL)\n",
    "    for layer in model.layers:\n",
    "        for weight_variable in layer.weights:\n",
    "            weight_values = K.batch_get_value(weight_variable)\n",
    "            for (row_num, row_array) in rows_of(weight_values):\n",
    "                if len(weight_values.shape) > 1:\n",
    "                    row_count = weight_values.shape[0]\n",
    "                    col_count = weight_values.shape[1]\n",
    "                else:\n",
    "                    row_count = 1\n",
    "                    col_count = weight_values.shape[0]                    \n",
    "                csv_row = [layer.name, weight_variable.name,\n",
    "                           row_count, col_count, row_num] + list(row_array)\n",
    "                weightswriter.writerow(csv_row)"
   ]
  },
  {
   "cell_type": "code",
   "execution_count": null,
   "metadata": {},
   "outputs": [],
   "source": []
  }
 ],
 "metadata": {
  "kernelspec": {
   "display_name": "Python 3",
   "language": "python",
   "name": "python3"
  },
  "language_info": {
   "codemirror_mode": {
    "name": "ipython",
    "version": 3
   },
   "file_extension": ".py",
   "mimetype": "text/x-python",
   "name": "python",
   "nbconvert_exporter": "python",
   "pygments_lexer": "ipython3",
   "version": "3.5.2"
  }
 },
 "nbformat": 4,
 "nbformat_minor": 2
}
