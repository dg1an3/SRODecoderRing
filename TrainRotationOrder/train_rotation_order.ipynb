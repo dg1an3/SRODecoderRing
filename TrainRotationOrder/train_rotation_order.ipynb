{
 "cells": [
  {
   "cell_type": "markdown",
   "metadata": {},
   "source": [
    "## Dependencies\n",
    "* standard libraries: random, math, itertools\n",
    "* numpy scipy\n",
    "* keras / tensorflow"
   ]
  },
  {
   "cell_type": "code",
   "execution_count": 1,
   "metadata": {},
   "outputs": [],
   "source": [
    "import random\n",
    "import math\n",
    "from itertools import permutations\n",
    "import numpy as np\n",
    "from scipy.spatial.transform import Rotation as R"
   ]
  },
  {
   "cell_type": "code",
   "execution_count": 2,
   "metadata": {},
   "outputs": [
    {
     "name": "stderr",
     "output_type": "stream",
     "text": [
      "Using TensorFlow backend.\n"
     ]
    },
    {
     "name": "stdout",
     "output_type": "stream",
     "text": [
      "tensorflow\n"
     ]
    }
   ],
   "source": [
    "import keras\n",
    "from keras.models import Sequential\n",
    "from keras.layers import Dense, Dropout, Activation, BatchNormalization\n",
    "from keras.optimizers import SGD, Adam\n",
    "from keras.preprocessing.image import ImageDataGenerator\n",
    "from keras import backend as K\n",
    "print(K.backend())"
   ]
  },
  {
   "cell_type": "markdown",
   "metadata": {},
   "source": [
    "## Model"
   ]
  },
  {
   "cell_type": "code",
   "execution_count": 3,
   "metadata": {},
   "outputs": [
    {
     "name": "stdout",
     "output_type": "stream",
     "text": [
      "['yzx', 'yxz', 'zyx', 'zxy', 'xyz', 'xzy']\n"
     ]
    }
   ],
   "source": [
    "all_rotation_orders = [''.join(axes) for axes in permutations({'x','y','z'})]\n",
    "print(all_rotation_orders)"
   ]
  },
  {
   "cell_type": "code",
   "execution_count": 4,
   "metadata": {},
   "outputs": [
    {
     "name": "stdout",
     "output_type": "stream",
     "text": [
      "[-3.24972153  4.30385362  0.48243849  4.52010599 -3.12602618  0.74478975\n",
      " -1.27703979 -4.02305146 -1.40080634  0.2750498 ]\n"
     ]
    }
   ],
   "source": [
    "def random_vector(n, mag):\n",
    "    return 2.0 * mag * (0.5-np.random.random(size=n))\n",
    "print(random_vector(10,5.0))"
   ]
  },
  {
   "cell_type": "markdown",
   "metadata": {},
   "source": [
    "define a function to generate a single sample from the model.\n",
    "\n",
    "sample is a tuple of:\n",
    "* np.array with 9 matrix elements + 3 rotation angles\n",
    "* string corresponding to chosen rotation order (element of all_rotation_orders)"
   ]
  },
  {
   "cell_type": "code",
   "execution_count": 5,
   "metadata": {},
   "outputs": [
    {
     "name": "stdout",
     "output_type": "stream",
     "text": [
      "(array([ 0.99935585,  0.03466508,  0.00928567, -0.03379935,  0.99613019,\n",
      "       -0.08113112, -0.01206216,  0.08076501,  0.99666018,  4.57420847,\n",
      "       -1.85894155,  0.76948431]), 'xzy')\n"
     ]
    }
   ],
   "source": [
    "def generate_sample_from_model():\n",
    "    rotation_order = random.choice(all_rotation_orders)  # choose a rotation order\n",
    "    angles = random_vector(3, 10.0)   # generate three random angles (in degrees)\n",
    "    if (min(abs(angles)) < 0.1):     # reject any angles that are too small\n",
    "        return generate_sample_from_model()\n",
    "    matrix = R.from_euler(rotation_order, angles, degrees = True)  # generate matrix\n",
    "    noise_angles = angles + random_vector(3, 0.1)    \n",
    "    x = np.concatenate((matrix.as_dcm().flatten(), \n",
    "                        np.array(noise_angles)))\n",
    "                        # np.array(np.cos(noise_angles)), \n",
    "                        # np.array(np.sin(noise_angles))))                         \n",
    "    return (x, rotation_order)\n",
    "print(generate_sample_from_model())"
   ]
  },
  {
   "cell_type": "markdown",
   "metadata": {},
   "source": [
    "define a function to generate multiple samples, suitable for training or testing.\n",
    "\n",
    "for number N, sample is a tuple:\n",
    " * np.array Nx12 of x vectors (standardized zero mean)\n",
    " * np.array Nx6 one-hot vectors"
   ]
  },
  {
   "cell_type": "code",
   "execution_count": 6,
   "metadata": {},
   "outputs": [
    {
     "name": "stdout",
     "output_type": "stream",
     "text": [
      "(array([[ 0.43562384,  0.35618446, -0.64646539, -0.35623185,  0.33139478,\n",
      "        -0.66548978,  0.5273733 ,  0.72190244,  1.15743544,  0.07408695,\n",
      "         0.78642897, -1.11418767],\n",
      "       [-1.38300457,  1.00717123, -0.76606151, -1.00713685, -1.35634139,\n",
      "         1.41341251,  0.87271471, -1.41410964, -1.28246299, -1.26010657,\n",
      "        -1.4111276 , -0.19718687],\n",
      "       [ 0.94738072, -1.36335569,  1.4125269 ,  1.3633687 ,  1.02494661,\n",
      "        -0.74792274, -1.40008801,  0.6922072 ,  0.12502754,  1.18601962,\n",
      "         0.62469863,  1.31137454]]), array([ 0.99219216,  0.09408371,  0.02216775, -0.09457565,  0.98646436,\n",
      "        0.11756445, -0.00956203, -0.11594338,  0.9904732 , -6.72500726,\n",
      "       -4.09676622, -0.24791605]), array([2.73666248e-03, 5.59795791e-02, 5.54109069e-02, 4.98078363e-02,\n",
      "       9.06985384e-03, 3.94845131e-02, 6.34856673e-02, 3.71143535e-02,\n",
      "       4.54257475e-03, 1.34662230e+00, 4.15555771e+00, 4.44987053e+00]), array([[0., 0., 1., 0., 0., 0.],\n",
      "       [0., 0., 0., 1., 0., 0.],\n",
      "       [0., 0., 0., 0., 0., 1.]], dtype=float32))\n"
     ]
    }
   ],
   "source": [
    "def generate_samples(n, mean=None, std=None):\n",
    "    [xs, rotation_orders] = list(zip(*[generate_sample_from_model() for _ in range(n)]))\n",
    "    xs = np.array(xs)\n",
    "    if mean is None:\n",
    "        mean = xs.mean(0)\n",
    "    if std is None:\n",
    "        std = xs.std(0)\n",
    "    xs -= mean    # standardize along sample dimension\n",
    "    xs /= std\n",
    "    ys = [all_rotation_orders.index(rotation_order) for rotation_order in rotation_orders]\n",
    "    return xs, mean, std, keras.utils.to_categorical(ys)\n",
    "print(generate_samples(3))"
   ]
  },
  {
   "cell_type": "markdown",
   "metadata": {},
   "source": [
    "generate training and testing data from the model"
   ]
  },
  {
   "cell_type": "code",
   "execution_count": 7,
   "metadata": {},
   "outputs": [
    {
     "name": "stdout",
     "output_type": "stream",
     "text": [
      "(10000, 12) (10000, 6)\n"
     ]
    }
   ],
   "source": [
    "x_train, mean, std, y_train = generate_samples(10000)\n",
    "x_test, _, _, y_test = generate_samples(1000, mean, std)\n",
    "print(x_train.shape, y_train.shape)"
   ]
  },
  {
   "cell_type": "markdown",
   "metadata": {},
   "source": [
    "now create an MLP as the model"
   ]
  },
  {
   "cell_type": "code",
   "execution_count": 8,
   "metadata": {},
   "outputs": [
    {
     "name": "stdout",
     "output_type": "stream",
     "text": [
      "WARNING:tensorflow:From c:\\python35\\lib\\site-packages\\tensorflow\\python\\framework\\op_def_library.py:263: colocate_with (from tensorflow.python.framework.ops) is deprecated and will be removed in a future version.\n",
      "Instructions for updating:\n",
      "Colocations handled automatically by placer.\n",
      "Model: \"sequential_1\"\n",
      "_________________________________________________________________\n",
      "Layer (type)                 Output Shape              Param #   \n",
      "=================================================================\n",
      "dense_1 (Dense)              (None, 64)                832       \n",
      "_________________________________________________________________\n",
      "dense_2 (Dense)              (None, 32)                2080      \n",
      "_________________________________________________________________\n",
      "dense_3 (Dense)              (None, 32)                1056      \n",
      "_________________________________________________________________\n",
      "dense_4 (Dense)              (None, 6)                 198       \n",
      "=================================================================\n",
      "Total params: 4,166\n",
      "Trainable params: 4,166\n",
      "Non-trainable params: 0\n",
      "_________________________________________________________________\n"
     ]
    }
   ],
   "source": [
    "model = Sequential()\n",
    "model.add(Dense(64, activation='relu', input_dim = x_train.shape[1]))\n",
    "model.add(Dense(32, activation='relu'))\n",
    "model.add(Dense(32, activation='relu'))\n",
    "model.add(Dense(6, activation='softmax'))\n",
    "model.summary()"
   ]
  },
  {
   "cell_type": "markdown",
   "metadata": {},
   "source": [
    "set up the optimizer and compile the model"
   ]
  },
  {
   "cell_type": "code",
   "execution_count": 9,
   "metadata": {},
   "outputs": [],
   "source": [
    "adam = Adam(lr=0.001, decay=1e-8)\n",
    "model.compile(loss='categorical_crossentropy', optimizer=adam, metrics=['accuracy'])"
   ]
  },
  {
   "cell_type": "markdown",
   "metadata": {},
   "source": [
    "now fit the data using the training samples"
   ]
  },
  {
   "cell_type": "code",
   "execution_count": 10,
   "metadata": {},
   "outputs": [
    {
     "name": "stdout",
     "output_type": "stream",
     "text": [
      "WARNING:tensorflow:From c:\\python35\\lib\\site-packages\\tensorflow\\python\\ops\\math_ops.py:3066: to_int32 (from tensorflow.python.ops.math_ops) is deprecated and will be removed in a future version.\n",
      "Instructions for updating:\n",
      "Use tf.cast instead.\n",
      "Epoch 1/200\n",
      "10000/10000 [==============================] - 0s 24us/step - loss: 1.6787 - acc: 0.3182\n",
      "Epoch 2/200\n",
      "10000/10000 [==============================] - 0s 5us/step - loss: 1.3758 - acc: 0.5111\n",
      "Epoch 3/200\n",
      "10000/10000 [==============================] - 0s 5us/step - loss: 0.9808 - acc: 0.6928\n",
      "Epoch 4/200\n",
      "10000/10000 [==============================] - 0s 5us/step - loss: 0.6703 - acc: 0.7938\n",
      "Epoch 5/200\n",
      "10000/10000 [==============================] - 0s 5us/step - loss: 0.4959 - acc: 0.8477\n",
      "Epoch 6/200\n",
      "10000/10000 [==============================] - 0s 6us/step - loss: 0.3998 - acc: 0.8812\n",
      "Epoch 7/200\n",
      "10000/10000 [==============================] - 0s 6us/step - loss: 0.3352 - acc: 0.9014\n",
      "Epoch 8/200\n",
      "10000/10000 [==============================] - 0s 6us/step - loss: 0.2953 - acc: 0.9153\n",
      "Epoch 9/200\n",
      "10000/10000 [==============================] - 0s 6us/step - loss: 0.2611 - acc: 0.9282\n",
      "Epoch 10/200\n",
      "10000/10000 [==============================] - 0s 6us/step - loss: 0.2370 - acc: 0.9335\n",
      "Epoch 11/200\n",
      "10000/10000 [==============================] - 0s 6us/step - loss: 0.2176 - acc: 0.9340\n",
      "Epoch 12/200\n",
      "10000/10000 [==============================] - 0s 6us/step - loss: 0.2008 - acc: 0.9433\n",
      "Epoch 13/200\n",
      "10000/10000 [==============================] - 0s 7us/step - loss: 0.1869 - acc: 0.9480\n",
      "Epoch 14/200\n",
      "10000/10000 [==============================] - 0s 6us/step - loss: 0.1746 - acc: 0.9526\n",
      "Epoch 15/200\n",
      "10000/10000 [==============================] - 0s 6us/step - loss: 0.1700 - acc: 0.9496\n",
      "Epoch 16/200\n",
      "10000/10000 [==============================] - 0s 7us/step - loss: 0.1589 - acc: 0.9542\n",
      "Epoch 17/200\n",
      "10000/10000 [==============================] - 0s 6us/step - loss: 0.1496 - acc: 0.9589\n",
      "Epoch 18/200\n",
      "10000/10000 [==============================] - 0s 7us/step - loss: 0.1473 - acc: 0.9573\n",
      "Epoch 19/200\n",
      "10000/10000 [==============================] - 0s 6us/step - loss: 0.1401 - acc: 0.9588\n",
      "Epoch 20/200\n",
      "10000/10000 [==============================] - 0s 6us/step - loss: 0.1328 - acc: 0.9634\n",
      "Epoch 21/200\n",
      "10000/10000 [==============================] - 0s 6us/step - loss: 0.1270 - acc: 0.9692\n",
      "Epoch 22/200\n",
      "10000/10000 [==============================] - 0s 6us/step - loss: 0.1219 - acc: 0.9686\n",
      "Epoch 23/200\n",
      "10000/10000 [==============================] - 0s 6us/step - loss: 0.1162 - acc: 0.9690\n",
      "Epoch 24/200\n",
      "10000/10000 [==============================] - 0s 7us/step - loss: 0.1121 - acc: 0.9709\n",
      "Epoch 25/200\n",
      "10000/10000 [==============================] - 0s 6us/step - loss: 0.1067 - acc: 0.9747\n",
      "Epoch 26/200\n",
      "10000/10000 [==============================] - 0s 5us/step - loss: 0.1110 - acc: 0.9683\n",
      "Epoch 27/200\n",
      "10000/10000 [==============================] - 0s 6us/step - loss: 0.1017 - acc: 0.9728\n",
      "Epoch 28/200\n",
      "10000/10000 [==============================] - 0s 6us/step - loss: 0.0991 - acc: 0.9739\n",
      "Epoch 29/200\n",
      "10000/10000 [==============================] - 0s 5us/step - loss: 0.0971 - acc: 0.9730\n",
      "Epoch 30/200\n",
      "10000/10000 [==============================] - 0s 5us/step - loss: 0.0969 - acc: 0.9753\n",
      "Epoch 31/200\n",
      "10000/10000 [==============================] - 0s 6us/step - loss: 0.0943 - acc: 0.9756\n",
      "Epoch 32/200\n",
      "10000/10000 [==============================] - 0s 6us/step - loss: 0.0955 - acc: 0.9736\n",
      "Epoch 33/200\n",
      "10000/10000 [==============================] - 0s 6us/step - loss: 0.0859 - acc: 0.9760\n",
      "Epoch 34/200\n",
      "10000/10000 [==============================] - 0s 6us/step - loss: 0.0841 - acc: 0.9775\n",
      "Epoch 35/200\n",
      "10000/10000 [==============================] - 0s 6us/step - loss: 0.0888 - acc: 0.9726\n",
      "Epoch 36/200\n",
      "10000/10000 [==============================] - 0s 6us/step - loss: 0.0790 - acc: 0.9803\n",
      "Epoch 37/200\n",
      "10000/10000 [==============================] - 0s 6us/step - loss: 0.0795 - acc: 0.9784\n",
      "Epoch 38/200\n",
      "10000/10000 [==============================] - 0s 6us/step - loss: 0.0741 - acc: 0.9806\n",
      "Epoch 39/200\n",
      "10000/10000 [==============================] - 0s 6us/step - loss: 0.0742 - acc: 0.9809\n",
      "Epoch 40/200\n",
      "10000/10000 [==============================] - 0s 5us/step - loss: 0.0778 - acc: 0.9753\n",
      "Epoch 41/200\n",
      "10000/10000 [==============================] - 0s 5us/step - loss: 0.0712 - acc: 0.9807\n",
      "Epoch 42/200\n",
      "10000/10000 [==============================] - 0s 6us/step - loss: 0.0670 - acc: 0.9837\n",
      "Epoch 43/200\n",
      "10000/10000 [==============================] - 0s 6us/step - loss: 0.0643 - acc: 0.9859\n",
      "Epoch 44/200\n",
      "10000/10000 [==============================] - 0s 7us/step - loss: 0.0679 - acc: 0.9827\n",
      "Epoch 45/200\n",
      "10000/10000 [==============================] - 0s 6us/step - loss: 0.0650 - acc: 0.9833\n",
      "Epoch 46/200\n",
      "10000/10000 [==============================] - 0s 6us/step - loss: 0.0633 - acc: 0.9836\n",
      "Epoch 47/200\n",
      "10000/10000 [==============================] - 0s 6us/step - loss: 0.0665 - acc: 0.9829\n",
      "Epoch 48/200\n",
      "10000/10000 [==============================] - 0s 6us/step - loss: 0.0598 - acc: 0.9859\n",
      "Epoch 49/200\n",
      "10000/10000 [==============================] - 0s 6us/step - loss: 0.0581 - acc: 0.9861\n",
      "Epoch 50/200\n",
      "10000/10000 [==============================] - 0s 6us/step - loss: 0.0577 - acc: 0.9870\n",
      "Epoch 51/200\n",
      "10000/10000 [==============================] - 0s 6us/step - loss: 0.0560 - acc: 0.9872\n",
      "Epoch 52/200\n",
      "10000/10000 [==============================] - 0s 6us/step - loss: 0.0618 - acc: 0.9827\n",
      "Epoch 53/200\n",
      "10000/10000 [==============================] - 0s 6us/step - loss: 0.0708 - acc: 0.9765\n",
      "Epoch 54/200\n",
      "10000/10000 [==============================] - 0s 8us/step - loss: 0.0577 - acc: 0.9842\n",
      "Epoch 55/200\n",
      "10000/10000 [==============================] - 0s 6us/step - loss: 0.0550 - acc: 0.9869\n",
      "Epoch 56/200\n",
      "10000/10000 [==============================] - 0s 6us/step - loss: 0.0524 - acc: 0.9862\n",
      "Epoch 57/200\n",
      "10000/10000 [==============================] - 0s 6us/step - loss: 0.0543 - acc: 0.9842\n",
      "Epoch 58/200\n",
      "10000/10000 [==============================] - 0s 5us/step - loss: 0.0491 - acc: 0.9891\n",
      "Epoch 59/200\n",
      "10000/10000 [==============================] - 0s 5us/step - loss: 0.0486 - acc: 0.9888\n",
      "Epoch 60/200\n",
      "10000/10000 [==============================] - 0s 6us/step - loss: 0.0681 - acc: 0.9783\n",
      "Epoch 61/200\n",
      "10000/10000 [==============================] - 0s 6us/step - loss: 0.0597 - acc: 0.9811\n",
      "Epoch 62/200\n",
      "10000/10000 [==============================] - 0s 6us/step - loss: 0.0484 - acc: 0.9878\n",
      "Epoch 63/200\n",
      "10000/10000 [==============================] - 0s 5us/step - loss: 0.0493 - acc: 0.9861\n",
      "Epoch 64/200\n",
      "10000/10000 [==============================] - 0s 6us/step - loss: 0.0482 - acc: 0.9878\n",
      "Epoch 65/200\n",
      "10000/10000 [==============================] - 0s 5us/step - loss: 0.0454 - acc: 0.9891\n",
      "Epoch 66/200\n",
      "10000/10000 [==============================] - 0s 6us/step - loss: 0.0449 - acc: 0.9887\n",
      "Epoch 67/200\n",
      "10000/10000 [==============================] - 0s 6us/step - loss: 0.0434 - acc: 0.9901\n",
      "Epoch 68/200\n",
      "10000/10000 [==============================] - 0s 5us/step - loss: 0.0446 - acc: 0.9896\n",
      "Epoch 69/200\n",
      "10000/10000 [==============================] - 0s 5us/step - loss: 0.0493 - acc: 0.9857\n",
      "Epoch 70/200\n",
      "10000/10000 [==============================] - 0s 6us/step - loss: 0.0415 - acc: 0.9908\n",
      "Epoch 71/200\n",
      "10000/10000 [==============================] - 0s 6us/step - loss: 0.0441 - acc: 0.9881\n",
      "Epoch 72/200\n",
      "10000/10000 [==============================] - 0s 6us/step - loss: 0.0427 - acc: 0.9882\n",
      "Epoch 73/200\n",
      "10000/10000 [==============================] - 0s 6us/step - loss: 0.0483 - acc: 0.9860\n",
      "Epoch 74/200\n",
      "10000/10000 [==============================] - 0s 5us/step - loss: 0.0432 - acc: 0.9886\n",
      "Epoch 75/200\n",
      "10000/10000 [==============================] - 0s 5us/step - loss: 0.0425 - acc: 0.9885\n",
      "Epoch 76/200\n",
      "10000/10000 [==============================] - 0s 6us/step - loss: 0.0410 - acc: 0.9899\n",
      "Epoch 77/200\n",
      "10000/10000 [==============================] - 0s 6us/step - loss: 0.0464 - acc: 0.9857\n",
      "Epoch 78/200\n",
      "10000/10000 [==============================] - 0s 6us/step - loss: 0.0448 - acc: 0.9866\n",
      "Epoch 79/200\n"
     ]
    },
    {
     "name": "stdout",
     "output_type": "stream",
     "text": [
      "10000/10000 [==============================] - 0s 5us/step - loss: 0.0405 - acc: 0.9884\n",
      "Epoch 80/200\n",
      "10000/10000 [==============================] - 0s 6us/step - loss: 0.0358 - acc: 0.9923\n",
      "Epoch 81/200\n",
      "10000/10000 [==============================] - 0s 6us/step - loss: 0.0368 - acc: 0.9908\n",
      "Epoch 82/200\n",
      "10000/10000 [==============================] - 0s 5us/step - loss: 0.0349 - acc: 0.9917\n",
      "Epoch 83/200\n",
      "10000/10000 [==============================] - 0s 5us/step - loss: 0.0359 - acc: 0.9919\n",
      "Epoch 84/200\n",
      "10000/10000 [==============================] - 0s 5us/step - loss: 0.0346 - acc: 0.9915\n",
      "Epoch 85/200\n",
      "10000/10000 [==============================] - 0s 5us/step - loss: 0.0351 - acc: 0.9917\n",
      "Epoch 86/200\n",
      "10000/10000 [==============================] - 0s 5us/step - loss: 0.0532 - acc: 0.9829\n",
      "Epoch 87/200\n",
      "10000/10000 [==============================] - 0s 5us/step - loss: 0.0387 - acc: 0.9886\n",
      "Epoch 88/200\n",
      "10000/10000 [==============================] - 0s 6us/step - loss: 0.0410 - acc: 0.9887\n",
      "Epoch 89/200\n",
      "10000/10000 [==============================] - 0s 6us/step - loss: 0.0354 - acc: 0.9912\n",
      "Epoch 90/200\n",
      "10000/10000 [==============================] - 0s 6us/step - loss: 0.0343 - acc: 0.9906\n",
      "Epoch 91/200\n",
      "10000/10000 [==============================] - 0s 6us/step - loss: 0.0497 - acc: 0.9818\n",
      "Epoch 92/200\n",
      "10000/10000 [==============================] - 0s 6us/step - loss: 0.0436 - acc: 0.9867\n",
      "Epoch 93/200\n",
      "10000/10000 [==============================] - 0s 5us/step - loss: 0.0344 - acc: 0.9905\n",
      "Epoch 94/200\n",
      "10000/10000 [==============================] - 0s 5us/step - loss: 0.0465 - acc: 0.9846\n",
      "Epoch 95/200\n",
      "10000/10000 [==============================] - 0s 6us/step - loss: 0.0364 - acc: 0.9897\n",
      "Epoch 96/200\n",
      "10000/10000 [==============================] - 0s 5us/step - loss: 0.0315 - acc: 0.9920\n",
      "Epoch 97/200\n",
      "10000/10000 [==============================] - 0s 5us/step - loss: 0.0319 - acc: 0.9908\n",
      "Epoch 98/200\n",
      "10000/10000 [==============================] - 0s 5us/step - loss: 0.0305 - acc: 0.9925\n",
      "Epoch 99/200\n",
      "10000/10000 [==============================] - 0s 7us/step - loss: 0.0344 - acc: 0.9896\n",
      "Epoch 100/200\n",
      "10000/10000 [==============================] - 0s 6us/step - loss: 0.0304 - acc: 0.9923\n",
      "Epoch 101/200\n",
      "10000/10000 [==============================] - 0s 5us/step - loss: 0.0323 - acc: 0.9913\n",
      "Epoch 102/200\n",
      "10000/10000 [==============================] - 0s 6us/step - loss: 0.0323 - acc: 0.9911\n",
      "Epoch 103/200\n",
      "10000/10000 [==============================] - 0s 5us/step - loss: 0.0301 - acc: 0.9919\n",
      "Epoch 104/200\n",
      "10000/10000 [==============================] - 0s 6us/step - loss: 0.0290 - acc: 0.9928\n",
      "Epoch 105/200\n",
      "10000/10000 [==============================] - 0s 6us/step - loss: 0.0303 - acc: 0.9905\n",
      "Epoch 106/200\n",
      "10000/10000 [==============================] - 0s 6us/step - loss: 0.0314 - acc: 0.9902\n",
      "Epoch 107/200\n",
      "10000/10000 [==============================] - 0s 6us/step - loss: 0.0273 - acc: 0.9928\n",
      "Epoch 108/200\n",
      "10000/10000 [==============================] - 0s 6us/step - loss: 0.0282 - acc: 0.9925\n",
      "Epoch 109/200\n",
      "10000/10000 [==============================] - 0s 6us/step - loss: 0.0271 - acc: 0.9920\n",
      "Epoch 110/200\n",
      "10000/10000 [==============================] - 0s 6us/step - loss: 0.0276 - acc: 0.9919\n",
      "Epoch 111/200\n",
      "10000/10000 [==============================] - 0s 6us/step - loss: 0.0298 - acc: 0.9914\n",
      "Epoch 112/200\n",
      "10000/10000 [==============================] - 0s 6us/step - loss: 0.0337 - acc: 0.9888\n",
      "Epoch 113/200\n",
      "10000/10000 [==============================] - 0s 6us/step - loss: 0.0326 - acc: 0.9906\n",
      "Epoch 114/200\n",
      "10000/10000 [==============================] - 0s 5us/step - loss: 0.0298 - acc: 0.9919\n",
      "Epoch 115/200\n",
      "10000/10000 [==============================] - 0s 6us/step - loss: 0.0321 - acc: 0.9903\n",
      "Epoch 116/200\n",
      "10000/10000 [==============================] - 0s 6us/step - loss: 0.0334 - acc: 0.9900\n",
      "Epoch 117/200\n",
      "10000/10000 [==============================] - 0s 6us/step - loss: 0.0285 - acc: 0.9915\n",
      "Epoch 118/200\n",
      "10000/10000 [==============================] - 0s 5us/step - loss: 0.0253 - acc: 0.9936\n",
      "Epoch 119/200\n",
      "10000/10000 [==============================] - 0s 6us/step - loss: 0.0338 - acc: 0.9891\n",
      "Epoch 120/200\n",
      "10000/10000 [==============================] - 0s 6us/step - loss: 0.0307 - acc: 0.9908\n",
      "Epoch 121/200\n",
      "10000/10000 [==============================] - 0s 6us/step - loss: 0.0293 - acc: 0.9899\n",
      "Epoch 122/200\n",
      "10000/10000 [==============================] - 0s 6us/step - loss: 0.0285 - acc: 0.9905\n",
      "Epoch 123/200\n",
      "10000/10000 [==============================] - 0s 6us/step - loss: 0.0400 - acc: 0.9861\n",
      "Epoch 124/200\n",
      "10000/10000 [==============================] - 0s 6us/step - loss: 0.0380 - acc: 0.9863\n",
      "Epoch 125/200\n",
      "10000/10000 [==============================] - 0s 6us/step - loss: 0.0273 - acc: 0.9921\n",
      "Epoch 126/200\n",
      "10000/10000 [==============================] - 0s 6us/step - loss: 0.0366 - acc: 0.9874\n",
      "Epoch 127/200\n",
      "10000/10000 [==============================] - 0s 6us/step - loss: 0.0261 - acc: 0.9922\n",
      "Epoch 128/200\n",
      "10000/10000 [==============================] - 0s 6us/step - loss: 0.0253 - acc: 0.9922\n",
      "Epoch 129/200\n",
      "10000/10000 [==============================] - 0s 6us/step - loss: 0.0248 - acc: 0.9939\n",
      "Epoch 130/200\n",
      "10000/10000 [==============================] - 0s 5us/step - loss: 0.0238 - acc: 0.9935\n",
      "Epoch 131/200\n",
      "10000/10000 [==============================] - 0s 5us/step - loss: 0.0220 - acc: 0.9949\n",
      "Epoch 132/200\n",
      "10000/10000 [==============================] - 0s 6us/step - loss: 0.0240 - acc: 0.9926\n",
      "Epoch 133/200\n",
      "10000/10000 [==============================] - 0s 6us/step - loss: 0.0254 - acc: 0.9934\n",
      "Epoch 134/200\n",
      "10000/10000 [==============================] - 0s 6us/step - loss: 0.0247 - acc: 0.9936\n",
      "Epoch 135/200\n",
      "10000/10000 [==============================] - 0s 7us/step - loss: 0.0261 - acc: 0.9905\n",
      "Epoch 136/200\n",
      "10000/10000 [==============================] - 0s 6us/step - loss: 0.0261 - acc: 0.9907\n",
      "Epoch 137/200\n",
      "10000/10000 [==============================] - 0s 5us/step - loss: 0.0219 - acc: 0.9945\n",
      "Epoch 138/200\n",
      "10000/10000 [==============================] - 0s 5us/step - loss: 0.0225 - acc: 0.9930\n",
      "Epoch 139/200\n",
      "10000/10000 [==============================] - 0s 5us/step - loss: 0.0223 - acc: 0.9940\n",
      "Epoch 140/200\n",
      "10000/10000 [==============================] - 0s 6us/step - loss: 0.0259 - acc: 0.9920\n",
      "Epoch 141/200\n",
      "10000/10000 [==============================] - 0s 6us/step - loss: 0.0275 - acc: 0.9905\n",
      "Epoch 142/200\n",
      "10000/10000 [==============================] - 0s 6us/step - loss: 0.0380 - acc: 0.9862\n",
      "Epoch 143/200\n",
      "10000/10000 [==============================] - 0s 6us/step - loss: 0.0344 - acc: 0.9873\n",
      "Epoch 144/200\n",
      "10000/10000 [==============================] - 0s 5us/step - loss: 0.0476 - acc: 0.9859\n",
      "Epoch 145/200\n",
      "10000/10000 [==============================] - 0s 7us/step - loss: 0.0256 - acc: 0.9913\n",
      "Epoch 146/200\n",
      "10000/10000 [==============================] - 0s 6us/step - loss: 0.0216 - acc: 0.9929\n",
      "Epoch 147/200\n",
      "10000/10000 [==============================] - 0s 6us/step - loss: 0.0228 - acc: 0.9941\n",
      "Epoch 148/200\n",
      "10000/10000 [==============================] - 0s 6us/step - loss: 0.0249 - acc: 0.9923\n",
      "Epoch 149/200\n",
      "10000/10000 [==============================] - 0s 5us/step - loss: 0.0285 - acc: 0.9916\n",
      "Epoch 150/200\n",
      "10000/10000 [==============================] - 0s 6us/step - loss: 0.0317 - acc: 0.9894\n",
      "Epoch 151/200\n",
      "10000/10000 [==============================] - 0s 6us/step - loss: 0.0221 - acc: 0.9940\n",
      "Epoch 152/200\n",
      "10000/10000 [==============================] - 0s 5us/step - loss: 0.0273 - acc: 0.9909\n",
      "Epoch 153/200\n",
      "10000/10000 [==============================] - 0s 6us/step - loss: 0.0414 - acc: 0.9872\n",
      "Epoch 154/200\n",
      "10000/10000 [==============================] - 0s 6us/step - loss: 0.0230 - acc: 0.9932\n",
      "Epoch 155/200\n",
      "10000/10000 [==============================] - 0s 5us/step - loss: 0.0231 - acc: 0.9929\n",
      "Epoch 156/200\n",
      "10000/10000 [==============================] - 0s 6us/step - loss: 0.0202 - acc: 0.9952\n",
      "Epoch 157/200\n",
      "10000/10000 [==============================] - 0s 6us/step - loss: 0.0208 - acc: 0.9941\n",
      "Epoch 158/200\n",
      "10000/10000 [==============================] - 0s 6us/step - loss: 0.0202 - acc: 0.9947\n",
      "Epoch 159/200\n"
     ]
    },
    {
     "name": "stdout",
     "output_type": "stream",
     "text": [
      "10000/10000 [==============================] - 0s 6us/step - loss: 0.0197 - acc: 0.9948\n",
      "Epoch 160/200\n",
      "10000/10000 [==============================] - 0s 5us/step - loss: 0.0191 - acc: 0.9949\n",
      "Epoch 161/200\n",
      "10000/10000 [==============================] - 0s 5us/step - loss: 0.0228 - acc: 0.9930\n",
      "Epoch 162/200\n",
      "10000/10000 [==============================] - 0s 6us/step - loss: 0.0209 - acc: 0.9939\n",
      "Epoch 163/200\n",
      "10000/10000 [==============================] - 0s 6us/step - loss: 0.0298 - acc: 0.9911\n",
      "Epoch 164/200\n",
      "10000/10000 [==============================] - 0s 6us/step - loss: 0.0246 - acc: 0.9914\n",
      "Epoch 165/200\n",
      "10000/10000 [==============================] - 0s 6us/step - loss: 0.0298 - acc: 0.9886\n",
      "Epoch 166/200\n",
      "10000/10000 [==============================] - 0s 5us/step - loss: 0.0223 - acc: 0.9931\n",
      "Epoch 167/200\n",
      "10000/10000 [==============================] - 0s 6us/step - loss: 0.0247 - acc: 0.9910\n",
      "Epoch 168/200\n",
      "10000/10000 [==============================] - 0s 5us/step - loss: 0.0358 - acc: 0.9875\n",
      "Epoch 169/200\n",
      "10000/10000 [==============================] - 0s 5us/step - loss: 0.0232 - acc: 0.9927\n",
      "Epoch 170/200\n",
      "10000/10000 [==============================] - 0s 5us/step - loss: 0.0225 - acc: 0.9926\n",
      "Epoch 171/200\n",
      "10000/10000 [==============================] - 0s 6us/step - loss: 0.0209 - acc: 0.9939\n",
      "Epoch 172/200\n",
      "10000/10000 [==============================] - 0s 6us/step - loss: 0.0183 - acc: 0.9945\n",
      "Epoch 173/200\n",
      "10000/10000 [==============================] - 0s 6us/step - loss: 0.0209 - acc: 0.9928\n",
      "Epoch 174/200\n",
      "10000/10000 [==============================] - 0s 5us/step - loss: 0.0227 - acc: 0.9932\n",
      "Epoch 175/200\n",
      "10000/10000 [==============================] - 0s 6us/step - loss: 0.0261 - acc: 0.9908\n",
      "Epoch 176/200\n",
      "10000/10000 [==============================] - 0s 6us/step - loss: 0.0194 - acc: 0.9944\n",
      "Epoch 177/200\n",
      "10000/10000 [==============================] - 0s 6us/step - loss: 0.0187 - acc: 0.9939\n",
      "Epoch 178/200\n",
      "10000/10000 [==============================] - 0s 6us/step - loss: 0.0285 - acc: 0.9916\n",
      "Epoch 179/200\n",
      "10000/10000 [==============================] - 0s 5us/step - loss: 0.0269 - acc: 0.9905\n",
      "Epoch 180/200\n",
      "10000/10000 [==============================] - 0s 6us/step - loss: 0.0201 - acc: 0.9946\n",
      "Epoch 181/200\n",
      "10000/10000 [==============================] - 0s 6us/step - loss: 0.0196 - acc: 0.9937\n",
      "Epoch 182/200\n",
      "10000/10000 [==============================] - 0s 5us/step - loss: 0.0186 - acc: 0.9934\n",
      "Epoch 183/200\n",
      "10000/10000 [==============================] - 0s 6us/step - loss: 0.0194 - acc: 0.9934\n",
      "Epoch 184/200\n",
      "10000/10000 [==============================] - 0s 6us/step - loss: 0.0187 - acc: 0.9942\n",
      "Epoch 185/200\n",
      "10000/10000 [==============================] - 0s 6us/step - loss: 0.0176 - acc: 0.9934\n",
      "Epoch 186/200\n",
      "10000/10000 [==============================] - 0s 6us/step - loss: 0.0192 - acc: 0.9940\n",
      "Epoch 187/200\n",
      "10000/10000 [==============================] - 0s 6us/step - loss: 0.0181 - acc: 0.9945\n",
      "Epoch 188/200\n",
      "10000/10000 [==============================] - 0s 5us/step - loss: 0.0295 - acc: 0.9904\n",
      "Epoch 189/200\n",
      "10000/10000 [==============================] - 0s 6us/step - loss: 0.0249 - acc: 0.9924\n",
      "Epoch 190/200\n",
      "10000/10000 [==============================] - 0s 6us/step - loss: 0.0217 - acc: 0.9925\n",
      "Epoch 191/200\n",
      "10000/10000 [==============================] - 0s 5us/step - loss: 0.0210 - acc: 0.9933\n",
      "Epoch 192/200\n",
      "10000/10000 [==============================] - 0s 5us/step - loss: 0.0195 - acc: 0.9931\n",
      "Epoch 193/200\n",
      "10000/10000 [==============================] - 0s 6us/step - loss: 0.0199 - acc: 0.9937\n",
      "Epoch 194/200\n",
      "10000/10000 [==============================] - 0s 6us/step - loss: 0.0198 - acc: 0.9935\n",
      "Epoch 195/200\n",
      "10000/10000 [==============================] - 0s 5us/step - loss: 0.0184 - acc: 0.9936\n",
      "Epoch 196/200\n",
      "10000/10000 [==============================] - 0s 6us/step - loss: 0.0169 - acc: 0.9959\n",
      "Epoch 197/200\n",
      "10000/10000 [==============================] - 0s 5us/step - loss: 0.0214 - acc: 0.9921\n",
      "Epoch 198/200\n",
      "10000/10000 [==============================] - 0s 6us/step - loss: 0.0191 - acc: 0.9940\n",
      "Epoch 199/200\n",
      "10000/10000 [==============================] - 0s 6us/step - loss: 0.0179 - acc: 0.9944\n",
      "Epoch 200/200\n",
      "10000/10000 [==============================] - 0s 6us/step - loss: 0.0321 - acc: 0.9902\n"
     ]
    },
    {
     "data": {
      "text/plain": [
       "<keras.callbacks.History at 0x1c2a05c0>"
      ]
     },
     "execution_count": 10,
     "metadata": {},
     "output_type": "execute_result"
    }
   ],
   "source": [
    "model.fit(x_train, y_train, epochs=200, batch_size=256)"
   ]
  },
  {
   "cell_type": "code",
   "execution_count": 11,
   "metadata": {
    "scrolled": true
   },
   "outputs": [
    {
     "name": "stdout",
     "output_type": "stream",
     "text": [
      "1000/1000 [==============================] - 0s 33us/step\n",
      "[0.04175947864353657, 0.9839999966621399]\n"
     ]
    }
   ],
   "source": [
    "score = model.evaluate(x_test, y_test, batch_size=256)\n",
    "print(score)"
   ]
  },
  {
   "cell_type": "code",
   "execution_count": 12,
   "metadata": {},
   "outputs": [],
   "source": [
    "import json\n",
    "import csv\n",
    "with open('model_config.json', 'w') as modelfile:  \n",
    "    json.dump(model.get_config(), modelfile)"
   ]
  },
  {
   "cell_type": "code",
   "execution_count": 13,
   "metadata": {},
   "outputs": [],
   "source": [
    "def rows_of(array):\n",
    "    if len(array.shape) > 1:\n",
    "        for n in range(array.shape[0]):\n",
    "            yield (n, array[n])\n",
    "    else:\n",
    "        yield (0, array)\n",
    "        \n",
    "with open('weights.csv', 'w', newline='') as csvfile:\n",
    "    weightswriter = csv.writer(csvfile, delimiter=',', quoting=csv.QUOTE_MINIMAL)\n",
    "    for layer in model.layers:\n",
    "        for weight_variable in layer.weights:\n",
    "            weight_values = K.batch_get_value(weight_variable)\n",
    "            for (row_num, row_array) in rows_of(weight_values):\n",
    "                if len(weight_values.shape) > 1:\n",
    "                    row_count = weight_values.shape[0]\n",
    "                    col_count = weight_values.shape[1]\n",
    "                else:\n",
    "                    row_count = 1\n",
    "                    col_count = weight_values.shape[0]                    \n",
    "                csv_row = [layer.name, weight_variable.name,\n",
    "                           row_count, col_count, row_num] + list(row_array)\n",
    "                weightswriter.writerow(csv_row)"
   ]
  },
  {
   "cell_type": "code",
   "execution_count": 14,
   "metadata": {},
   "outputs": [
    {
     "name": "stderr",
     "output_type": "stream",
     "text": [
      "[NbConvertApp] Converting notebook train_rotation_order.ipynb to python\n",
      "[NbConvertApp] Writing 4554 bytes to train_rotation_order.py\n"
     ]
    }
   ],
   "source": [
    "!jupyter nbconvert --to python train_rotation_order.ipynb --template=python_script.tpl"
   ]
  },
  {
   "cell_type": "code",
   "execution_count": null,
   "metadata": {},
   "outputs": [],
   "source": []
  }
 ],
 "metadata": {
  "kernelspec": {
   "display_name": "Python 3",
   "language": "python",
   "name": "python3"
  },
  "language_info": {
   "codemirror_mode": {
    "name": "ipython",
    "version": 3
   },
   "file_extension": ".py",
   "mimetype": "text/x-python",
   "name": "python",
   "nbconvert_exporter": "python",
   "pygments_lexer": "ipython3",
   "version": "3.5.2"
  }
 },
 "nbformat": 4,
 "nbformat_minor": 2
}
